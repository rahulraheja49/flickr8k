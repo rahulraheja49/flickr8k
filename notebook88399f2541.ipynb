{
 "cells": [
  {
   "cell_type": "code",
   "execution_count": 1,
   "id": "76770203",
   "metadata": {
    "_cell_guid": "b1076dfc-b9ad-4769-8c92-a6c4dae69d19",
    "_uuid": "8f2839f25d086af736a60e9eeb907d3b93b6e0e5",
    "execution": {
     "iopub.execute_input": "2022-06-14T15:17:36.547229Z",
     "iopub.status.busy": "2022-06-14T15:17:36.546338Z",
     "iopub.status.idle": "2022-06-14T15:17:42.193769Z",
     "shell.execute_reply": "2022-06-14T15:17:42.192729Z",
     "shell.execute_reply.started": "2022-06-14T14:56:30.659106Z"
    },
    "papermill": {
     "duration": 5.724745,
     "end_time": "2022-06-14T15:17:42.193959",
     "exception": false,
     "start_time": "2022-06-14T15:17:36.469214",
     "status": "completed"
    },
    "tags": []
   },
   "outputs": [],
   "source": [
    "import os\n",
    "import pickle\n",
    "import numpy as np\n",
    "from tqdm.notebook import tqdm\n",
    "from tensorflow.keras.applications.vgg16 import VGG16, preprocess_input\n",
    "from tensorflow.keras.preprocessing.image import load_img, img_to_array\n",
    "from tensorflow.keras.preprocessing.text import Tokenizer\n",
    "from tensorflow.keras.preprocessing.sequence import pad_sequences\n",
    "from tensorflow.keras.models import Model\n",
    "from tensorflow.keras.utils import to_categorical, plot_model\n",
    "from tensorflow.keras.layers import Input, Dense, LSTM, Embedding, Dropout, add"
   ]
  },
  {
   "cell_type": "code",
   "execution_count": 2,
   "id": "3579fa59",
   "metadata": {
    "execution": {
     "iopub.execute_input": "2022-06-14T15:17:42.270380Z",
     "iopub.status.busy": "2022-06-14T15:17:42.269668Z",
     "iopub.status.idle": "2022-06-14T15:17:42.274088Z",
     "shell.execute_reply": "2022-06-14T15:17:42.273571Z",
     "shell.execute_reply.started": "2022-06-14T14:56:36.130360Z"
    },
    "papermill": {
     "duration": 0.044239,
     "end_time": "2022-06-14T15:17:42.274221",
     "exception": false,
     "start_time": "2022-06-14T15:17:42.229982",
     "status": "completed"
    },
    "tags": []
   },
   "outputs": [],
   "source": [
    "BASE_DIR = '/kaggle/input/flickr8k'\n",
    "WORKING_DIR = '/kaggle/working'"
   ]
  },
  {
   "cell_type": "code",
   "execution_count": 3,
   "id": "1d0d2faf",
   "metadata": {
    "execution": {
     "iopub.execute_input": "2022-06-14T15:17:42.352177Z",
     "iopub.status.busy": "2022-06-14T15:17:42.351406Z",
     "iopub.status.idle": "2022-06-14T15:17:49.472831Z",
     "shell.execute_reply": "2022-06-14T15:17:49.471964Z",
     "shell.execute_reply.started": "2022-06-14T14:56:36.138467Z"
    },
    "papermill": {
     "duration": 7.163885,
     "end_time": "2022-06-14T15:17:49.473034",
     "exception": false,
     "start_time": "2022-06-14T15:17:42.309149",
     "status": "completed"
    },
    "tags": []
   },
   "outputs": [
    {
     "name": "stderr",
     "output_type": "stream",
     "text": [
      "2022-06-14 15:17:42.449372: I tensorflow/stream_executor/cuda/cuda_gpu_executor.cc:937] successful NUMA node read from SysFS had negative value (-1), but there must be at least one NUMA node, so returning NUMA node zero\n",
      "2022-06-14 15:17:42.570708: I tensorflow/stream_executor/cuda/cuda_gpu_executor.cc:937] successful NUMA node read from SysFS had negative value (-1), but there must be at least one NUMA node, so returning NUMA node zero\n",
      "2022-06-14 15:17:42.571678: I tensorflow/stream_executor/cuda/cuda_gpu_executor.cc:937] successful NUMA node read from SysFS had negative value (-1), but there must be at least one NUMA node, so returning NUMA node zero\n",
      "2022-06-14 15:17:42.573122: I tensorflow/core/platform/cpu_feature_guard.cc:142] This TensorFlow binary is optimized with oneAPI Deep Neural Network Library (oneDNN) to use the following CPU instructions in performance-critical operations:  AVX2 AVX512F FMA\n",
      "To enable them in other operations, rebuild TensorFlow with the appropriate compiler flags.\n",
      "2022-06-14 15:17:42.574317: I tensorflow/stream_executor/cuda/cuda_gpu_executor.cc:937] successful NUMA node read from SysFS had negative value (-1), but there must be at least one NUMA node, so returning NUMA node zero\n",
      "2022-06-14 15:17:42.575144: I tensorflow/stream_executor/cuda/cuda_gpu_executor.cc:937] successful NUMA node read from SysFS had negative value (-1), but there must be at least one NUMA node, so returning NUMA node zero\n",
      "2022-06-14 15:17:42.576098: I tensorflow/stream_executor/cuda/cuda_gpu_executor.cc:937] successful NUMA node read from SysFS had negative value (-1), but there must be at least one NUMA node, so returning NUMA node zero\n",
      "2022-06-14 15:17:44.604969: I tensorflow/stream_executor/cuda/cuda_gpu_executor.cc:937] successful NUMA node read from SysFS had negative value (-1), but there must be at least one NUMA node, so returning NUMA node zero\n",
      "2022-06-14 15:17:44.605933: I tensorflow/stream_executor/cuda/cuda_gpu_executor.cc:937] successful NUMA node read from SysFS had negative value (-1), but there must be at least one NUMA node, so returning NUMA node zero\n",
      "2022-06-14 15:17:44.606713: I tensorflow/stream_executor/cuda/cuda_gpu_executor.cc:937] successful NUMA node read from SysFS had negative value (-1), but there must be at least one NUMA node, so returning NUMA node zero\n",
      "2022-06-14 15:17:44.607422: I tensorflow/core/common_runtime/gpu/gpu_device.cc:1510] Created device /job:localhost/replica:0/task:0/device:GPU:0 with 15403 MB memory:  -> device: 0, name: Tesla P100-PCIE-16GB, pci bus id: 0000:00:04.0, compute capability: 6.0\n"
     ]
    },
    {
     "name": "stdout",
     "output_type": "stream",
     "text": [
      "Downloading data from https://storage.googleapis.com/tensorflow/keras-applications/vgg16/vgg16_weights_tf_dim_ordering_tf_kernels.h5\n",
      "553467904/553467096 [==============================] - 3s 0us/step\n",
      "553476096/553467096 [==============================] - 3s 0us/step\n",
      "Model: \"model\"\n",
      "_________________________________________________________________\n",
      "Layer (type)                 Output Shape              Param #   \n",
      "=================================================================\n",
      "input_1 (InputLayer)         [(None, 224, 224, 3)]     0         \n",
      "_________________________________________________________________\n",
      "block1_conv1 (Conv2D)        (None, 224, 224, 64)      1792      \n",
      "_________________________________________________________________\n",
      "block1_conv2 (Conv2D)        (None, 224, 224, 64)      36928     \n",
      "_________________________________________________________________\n",
      "block1_pool (MaxPooling2D)   (None, 112, 112, 64)      0         \n",
      "_________________________________________________________________\n",
      "block2_conv1 (Conv2D)        (None, 112, 112, 128)     73856     \n",
      "_________________________________________________________________\n",
      "block2_conv2 (Conv2D)        (None, 112, 112, 128)     147584    \n",
      "_________________________________________________________________\n",
      "block2_pool (MaxPooling2D)   (None, 56, 56, 128)       0         \n",
      "_________________________________________________________________\n",
      "block3_conv1 (Conv2D)        (None, 56, 56, 256)       295168    \n",
      "_________________________________________________________________\n",
      "block3_conv2 (Conv2D)        (None, 56, 56, 256)       590080    \n",
      "_________________________________________________________________\n",
      "block3_conv3 (Conv2D)        (None, 56, 56, 256)       590080    \n",
      "_________________________________________________________________\n",
      "block3_pool (MaxPooling2D)   (None, 28, 28, 256)       0         \n",
      "_________________________________________________________________\n",
      "block4_conv1 (Conv2D)        (None, 28, 28, 512)       1180160   \n",
      "_________________________________________________________________\n",
      "block4_conv2 (Conv2D)        (None, 28, 28, 512)       2359808   \n",
      "_________________________________________________________________\n",
      "block4_conv3 (Conv2D)        (None, 28, 28, 512)       2359808   \n",
      "_________________________________________________________________\n",
      "block4_pool (MaxPooling2D)   (None, 14, 14, 512)       0         \n",
      "_________________________________________________________________\n",
      "block5_conv1 (Conv2D)        (None, 14, 14, 512)       2359808   \n",
      "_________________________________________________________________\n",
      "block5_conv2 (Conv2D)        (None, 14, 14, 512)       2359808   \n",
      "_________________________________________________________________\n",
      "block5_conv3 (Conv2D)        (None, 14, 14, 512)       2359808   \n",
      "_________________________________________________________________\n",
      "block5_pool (MaxPooling2D)   (None, 7, 7, 512)         0         \n",
      "_________________________________________________________________\n",
      "flatten (Flatten)            (None, 25088)             0         \n",
      "_________________________________________________________________\n",
      "fc1 (Dense)                  (None, 4096)              102764544 \n",
      "_________________________________________________________________\n",
      "fc2 (Dense)                  (None, 4096)              16781312  \n",
      "=================================================================\n",
      "Total params: 134,260,544\n",
      "Trainable params: 134,260,544\n",
      "Non-trainable params: 0\n",
      "_________________________________________________________________\n",
      "None\n"
     ]
    }
   ],
   "source": [
    "model = VGG16()\n",
    "model = Model(inputs=model.inputs, outputs=model.layers[-2].output)\n",
    "print(model.summary())"
   ]
  },
  {
   "cell_type": "code",
   "execution_count": 4,
   "id": "5d1555ba",
   "metadata": {
    "execution": {
     "iopub.execute_input": "2022-06-14T15:17:49.610309Z",
     "iopub.status.busy": "2022-06-14T15:17:49.609274Z",
     "iopub.status.idle": "2022-06-14T15:28:00.921095Z",
     "shell.execute_reply": "2022-06-14T15:28:00.920310Z",
     "shell.execute_reply.started": "2022-06-14T14:56:42.495153Z"
    },
    "papermill": {
     "duration": 611.379002,
     "end_time": "2022-06-14T15:28:00.921244",
     "exception": false,
     "start_time": "2022-06-14T15:17:49.542242",
     "status": "completed"
    },
    "tags": []
   },
   "outputs": [
    {
     "data": {
      "application/vnd.jupyter.widget-view+json": {
       "model_id": "ea7e7b23ac6844f3a2305e7340305335",
       "version_major": 2,
       "version_minor": 0
      },
      "text/plain": [
       "  0%|          | 0/8091 [00:00<?, ?it/s]"
      ]
     },
     "metadata": {},
     "output_type": "display_data"
    },
    {
     "name": "stderr",
     "output_type": "stream",
     "text": [
      "2022-06-14 15:17:50.419042: I tensorflow/compiler/mlir/mlir_graph_optimization_pass.cc:185] None of the MLIR Optimization Passes are enabled (registered 2)\n",
      "2022-06-14 15:17:51.537221: I tensorflow/stream_executor/cuda/cuda_dnn.cc:369] Loaded cuDNN version 8005\n"
     ]
    }
   ],
   "source": [
    "features = {}\n",
    "directory = os.path.join(BASE_DIR, 'Images')\n",
    "\n",
    "for img_name in tqdm(os.listdir(directory)):\n",
    "    # load image from file\n",
    "    img_path = directory + '/' + img_name\n",
    "    image = load_img(img_path, target_size=(224, 224))\n",
    "    # convert image pixels to numpy array\n",
    "    image = img_to_array(image)\n",
    "    # reshape data for model\n",
    "    image = image.reshape((1, image.shape[0], image.shape[1], image.shape[2]))\n",
    "    # preprocess image for vgg\n",
    "    image = preprocess_input(image)\n",
    "    # extract features\n",
    "    feature = model.predict(image, verbose=0)\n",
    "    # get image id\n",
    "    image_id = img_name.split('.')[0]\n",
    "    # store feature\n",
    "    features[image_id] = feature"
   ]
  },
  {
   "cell_type": "code",
   "execution_count": 5,
   "id": "926c565e",
   "metadata": {
    "execution": {
     "iopub.execute_input": "2022-06-14T15:28:01.121366Z",
     "iopub.status.busy": "2022-06-14T15:28:01.047940Z",
     "iopub.status.idle": "2022-06-14T15:28:01.410103Z",
     "shell.execute_reply": "2022-06-14T15:28:01.409575Z",
     "shell.execute_reply.started": "2022-06-14T15:04:34.305485Z"
    },
    "papermill": {
     "duration": 0.428044,
     "end_time": "2022-06-14T15:28:01.410248",
     "exception": false,
     "start_time": "2022-06-14T15:28:00.982204",
     "status": "completed"
    },
    "tags": []
   },
   "outputs": [],
   "source": [
    "pickle.dump(features, open(os.path.join(WORKING_DIR, 'features.pkl'), 'wb'))"
   ]
  },
  {
   "cell_type": "code",
   "execution_count": 6,
   "id": "08138ba2",
   "metadata": {
    "execution": {
     "iopub.execute_input": "2022-06-14T15:28:01.535716Z",
     "iopub.status.busy": "2022-06-14T15:28:01.534608Z",
     "iopub.status.idle": "2022-06-14T15:28:01.709046Z",
     "shell.execute_reply": "2022-06-14T15:28:01.708458Z",
     "shell.execute_reply.started": "2022-06-14T15:04:34.630312Z"
    },
    "papermill": {
     "duration": 0.239476,
     "end_time": "2022-06-14T15:28:01.709194",
     "exception": false,
     "start_time": "2022-06-14T15:28:01.469718",
     "status": "completed"
    },
    "tags": []
   },
   "outputs": [],
   "source": [
    "with open(os.path.join(WORKING_DIR, 'features.pkl'), 'rb') as f:\n",
    "    features = pickle.load(f)"
   ]
  },
  {
   "cell_type": "markdown",
   "id": "68bb3539",
   "metadata": {
    "papermill": {
     "duration": 0.058922,
     "end_time": "2022-06-14T15:28:01.827939",
     "exception": false,
     "start_time": "2022-06-14T15:28:01.769017",
     "status": "completed"
    },
    "tags": []
   },
   "source": [
    "# Preprocessing"
   ]
  },
  {
   "cell_type": "code",
   "execution_count": 7,
   "id": "23d2e0ad",
   "metadata": {
    "execution": {
     "iopub.execute_input": "2022-06-14T15:28:01.952838Z",
     "iopub.status.busy": "2022-06-14T15:28:01.952169Z",
     "iopub.status.idle": "2022-06-14T15:28:02.016651Z",
     "shell.execute_reply": "2022-06-14T15:28:02.015900Z",
     "shell.execute_reply.started": "2022-06-14T15:04:34.793034Z"
    },
    "papermill": {
     "duration": 0.129309,
     "end_time": "2022-06-14T15:28:02.016803",
     "exception": false,
     "start_time": "2022-06-14T15:28:01.887494",
     "status": "completed"
    },
    "tags": []
   },
   "outputs": [],
   "source": [
    "with open(os.path.join(BASE_DIR, 'captions.txt'), 'r') as f:\n",
    "    next(f)\n",
    "    captions_doc = f.read()"
   ]
  },
  {
   "cell_type": "code",
   "execution_count": 8,
   "id": "2d44f99c",
   "metadata": {
    "execution": {
     "iopub.execute_input": "2022-06-14T15:28:02.178510Z",
     "iopub.status.busy": "2022-06-14T15:28:02.142628Z",
     "iopub.status.idle": "2022-06-14T15:28:02.585206Z",
     "shell.execute_reply": "2022-06-14T15:28:02.584724Z",
     "shell.execute_reply.started": "2022-06-14T15:04:34.859624Z"
    },
    "papermill": {
     "duration": 0.506731,
     "end_time": "2022-06-14T15:28:02.585355",
     "exception": false,
     "start_time": "2022-06-14T15:28:02.078624",
     "status": "completed"
    },
    "tags": []
   },
   "outputs": [
    {
     "data": {
      "application/vnd.jupyter.widget-view+json": {
       "model_id": "d3c43ef1d0b442f4a64c86ea5beebc41",
       "version_major": 2,
       "version_minor": 0
      },
      "text/plain": [
       "  0%|          | 0/40456 [00:00<?, ?it/s]"
      ]
     },
     "metadata": {},
     "output_type": "display_data"
    }
   ],
   "source": [
    "mapping = {}\n",
    "for line in tqdm(captions_doc.split('\\n')):\n",
    "    tokens = line.split(',')\n",
    "    if len(line) <2:\n",
    "        continue\n",
    "    image_id, caption = tokens[0], tokens[1:]\n",
    "    image_id = image_id.split('.')[0]\n",
    "    caption = ' '.join(caption)\n",
    "    if image_id not in mapping:\n",
    "        mapping[image_id] = []\n",
    "    mapping[image_id].append(caption)"
   ]
  },
  {
   "cell_type": "code",
   "execution_count": 9,
   "id": "48cf3e84",
   "metadata": {
    "execution": {
     "iopub.execute_input": "2022-06-14T15:28:02.715445Z",
     "iopub.status.busy": "2022-06-14T15:28:02.713650Z",
     "iopub.status.idle": "2022-06-14T15:28:02.717887Z",
     "shell.execute_reply": "2022-06-14T15:28:02.717372Z",
     "shell.execute_reply.started": "2022-06-14T15:04:35.242984Z"
    },
    "papermill": {
     "duration": 0.072243,
     "end_time": "2022-06-14T15:28:02.718016",
     "exception": false,
     "start_time": "2022-06-14T15:28:02.645773",
     "status": "completed"
    },
    "tags": []
   },
   "outputs": [
    {
     "data": {
      "text/plain": [
       "8091"
      ]
     },
     "execution_count": 9,
     "metadata": {},
     "output_type": "execute_result"
    }
   ],
   "source": [
    "len(mapping)"
   ]
  },
  {
   "cell_type": "code",
   "execution_count": 10,
   "id": "578260ca",
   "metadata": {
    "execution": {
     "iopub.execute_input": "2022-06-14T15:28:02.848069Z",
     "iopub.status.busy": "2022-06-14T15:28:02.847065Z",
     "iopub.status.idle": "2022-06-14T15:28:02.849175Z",
     "shell.execute_reply": "2022-06-14T15:28:02.849698Z",
     "shell.execute_reply.started": "2022-06-14T15:04:35.254285Z"
    },
    "papermill": {
     "duration": 0.071525,
     "end_time": "2022-06-14T15:28:02.849870",
     "exception": false,
     "start_time": "2022-06-14T15:28:02.778345",
     "status": "completed"
    },
    "tags": []
   },
   "outputs": [],
   "source": [
    "def clean(mapping):\n",
    "    for key, captions in mapping.items():\n",
    "        for i in range(len(captions)):\n",
    "            # take one caption at a time\n",
    "            caption = captions[i]\n",
    "            # preprocessing steps\n",
    "            # convert to lowercase\n",
    "            caption = caption.lower()\n",
    "            # remove digits, special chars, etc.\n",
    "            caption = caption.replace('[^A-Za-z]', '')\n",
    "            # remove additional spaces\n",
    "            caption = caption.replace('\\s+', ' ')\n",
    "            # add start and end tags to caption\n",
    "            caption = 'startseq ' + ' '.join([word for word in caption.split() if len(word)>1]) + ' endseq'\n",
    "            captions[i] = caption"
   ]
  },
  {
   "cell_type": "code",
   "execution_count": 11,
   "id": "099f18f3",
   "metadata": {
    "execution": {
     "iopub.execute_input": "2022-06-14T15:28:02.979002Z",
     "iopub.status.busy": "2022-06-14T15:28:02.976795Z",
     "iopub.status.idle": "2022-06-14T15:28:02.981419Z",
     "shell.execute_reply": "2022-06-14T15:28:02.980904Z",
     "shell.execute_reply.started": "2022-06-14T15:04:35.264682Z"
    },
    "papermill": {
     "duration": 0.071389,
     "end_time": "2022-06-14T15:28:02.981552",
     "exception": false,
     "start_time": "2022-06-14T15:28:02.910163",
     "status": "completed"
    },
    "tags": []
   },
   "outputs": [
    {
     "data": {
      "text/plain": [
       "['A child in a pink dress is climbing up a set of stairs in an entry way .',\n",
       " 'A girl going into a wooden building .',\n",
       " 'A little girl climbing into a wooden playhouse .',\n",
       " 'A little girl climbing the stairs to her playhouse .',\n",
       " 'A little girl in a pink dress going into a wooden cabin .']"
      ]
     },
     "execution_count": 11,
     "metadata": {},
     "output_type": "execute_result"
    }
   ],
   "source": [
    "# before preprocess of text\n",
    "mapping['1000268201_693b08cb0e']"
   ]
  },
  {
   "cell_type": "code",
   "execution_count": 12,
   "id": "6a1bc02c",
   "metadata": {
    "execution": {
     "iopub.execute_input": "2022-06-14T15:28:03.161317Z",
     "iopub.status.busy": "2022-06-14T15:28:03.125278Z",
     "iopub.status.idle": "2022-06-14T15:28:03.268376Z",
     "shell.execute_reply": "2022-06-14T15:28:03.267828Z",
     "shell.execute_reply.started": "2022-06-14T15:04:35.276571Z"
    },
    "papermill": {
     "duration": 0.2249,
     "end_time": "2022-06-14T15:28:03.268529",
     "exception": false,
     "start_time": "2022-06-14T15:28:03.043629",
     "status": "completed"
    },
    "tags": []
   },
   "outputs": [],
   "source": [
    "# preprocess the text\n",
    "clean(mapping)"
   ]
  },
  {
   "cell_type": "code",
   "execution_count": 13,
   "id": "18f1994b",
   "metadata": {
    "execution": {
     "iopub.execute_input": "2022-06-14T15:28:03.397271Z",
     "iopub.status.busy": "2022-06-14T15:28:03.396583Z",
     "iopub.status.idle": "2022-06-14T15:28:03.399758Z",
     "shell.execute_reply": "2022-06-14T15:28:03.400224Z",
     "shell.execute_reply.started": "2022-06-14T15:04:35.416452Z"
    },
    "papermill": {
     "duration": 0.070394,
     "end_time": "2022-06-14T15:28:03.400401",
     "exception": false,
     "start_time": "2022-06-14T15:28:03.330007",
     "status": "completed"
    },
    "tags": []
   },
   "outputs": [
    {
     "data": {
      "text/plain": [
       "['startseq child in pink dress is climbing up set of stairs in an entry way endseq',\n",
       " 'startseq girl going into wooden building endseq',\n",
       " 'startseq little girl climbing into wooden playhouse endseq',\n",
       " 'startseq little girl climbing the stairs to her playhouse endseq',\n",
       " 'startseq little girl in pink dress going into wooden cabin endseq']"
      ]
     },
     "execution_count": 13,
     "metadata": {},
     "output_type": "execute_result"
    }
   ],
   "source": [
    "# after preprocess of text\n",
    "mapping['1000268201_693b08cb0e']"
   ]
  },
  {
   "cell_type": "code",
   "execution_count": 14,
   "id": "f19598a6",
   "metadata": {
    "execution": {
     "iopub.execute_input": "2022-06-14T15:28:03.541583Z",
     "iopub.status.busy": "2022-06-14T15:28:03.540496Z",
     "iopub.status.idle": "2022-06-14T15:28:03.542800Z",
     "shell.execute_reply": "2022-06-14T15:28:03.543264Z",
     "shell.execute_reply.started": "2022-06-14T15:04:35.425286Z"
    },
    "papermill": {
     "duration": 0.082456,
     "end_time": "2022-06-14T15:28:03.543452",
     "exception": false,
     "start_time": "2022-06-14T15:28:03.460996",
     "status": "completed"
    },
    "tags": []
   },
   "outputs": [],
   "source": [
    "all_captions = []\n",
    "for key in mapping:\n",
    "    for caption in mapping[key]:\n",
    "        all_captions.append(caption)"
   ]
  },
  {
   "cell_type": "code",
   "execution_count": 15,
   "id": "4676e140",
   "metadata": {
    "execution": {
     "iopub.execute_input": "2022-06-14T15:28:03.671612Z",
     "iopub.status.busy": "2022-06-14T15:28:03.670982Z",
     "iopub.status.idle": "2022-06-14T15:28:03.677005Z",
     "shell.execute_reply": "2022-06-14T15:28:03.676468Z",
     "shell.execute_reply.started": "2022-06-14T15:04:35.441639Z"
    },
    "papermill": {
     "duration": 0.072111,
     "end_time": "2022-06-14T15:28:03.677134",
     "exception": false,
     "start_time": "2022-06-14T15:28:03.605023",
     "status": "completed"
    },
    "tags": []
   },
   "outputs": [
    {
     "data": {
      "text/plain": [
       "40455"
      ]
     },
     "execution_count": 15,
     "metadata": {},
     "output_type": "execute_result"
    }
   ],
   "source": [
    "len(all_captions)"
   ]
  },
  {
   "cell_type": "code",
   "execution_count": 16,
   "id": "69f7e501",
   "metadata": {
    "execution": {
     "iopub.execute_input": "2022-06-14T15:28:03.807250Z",
     "iopub.status.busy": "2022-06-14T15:28:03.806535Z",
     "iopub.status.idle": "2022-06-14T15:28:03.809758Z",
     "shell.execute_reply": "2022-06-14T15:28:03.810243Z",
     "shell.execute_reply.started": "2022-06-14T15:04:35.451752Z"
    },
    "papermill": {
     "duration": 0.071546,
     "end_time": "2022-06-14T15:28:03.810439",
     "exception": false,
     "start_time": "2022-06-14T15:28:03.738893",
     "status": "completed"
    },
    "tags": []
   },
   "outputs": [
    {
     "data": {
      "text/plain": [
       "['startseq child in pink dress is climbing up set of stairs in an entry way endseq',\n",
       " 'startseq girl going into wooden building endseq',\n",
       " 'startseq little girl climbing into wooden playhouse endseq',\n",
       " 'startseq little girl climbing the stairs to her playhouse endseq',\n",
       " 'startseq little girl in pink dress going into wooden cabin endseq',\n",
       " 'startseq black dog and spotted dog are fighting endseq',\n",
       " 'startseq black dog and tri-colored dog playing with each other on the road endseq',\n",
       " 'startseq black dog and white dog with brown spots are staring at each other in the street endseq',\n",
       " 'startseq two dogs of different breeds looking at each other on the road endseq',\n",
       " 'startseq two dogs on pavement moving toward each other endseq']"
      ]
     },
     "execution_count": 16,
     "metadata": {},
     "output_type": "execute_result"
    }
   ],
   "source": [
    "all_captions[:10]"
   ]
  },
  {
   "cell_type": "code",
   "execution_count": 17,
   "id": "18a3c78b",
   "metadata": {
    "execution": {
     "iopub.execute_input": "2022-06-14T15:28:03.978385Z",
     "iopub.status.busy": "2022-06-14T15:28:03.963054Z",
     "iopub.status.idle": "2022-06-14T15:28:05.251655Z",
     "shell.execute_reply": "2022-06-14T15:28:05.250842Z",
     "shell.execute_reply.started": "2022-06-14T15:04:35.461274Z"
    },
    "papermill": {
     "duration": 1.379488,
     "end_time": "2022-06-14T15:28:05.251842",
     "exception": false,
     "start_time": "2022-06-14T15:28:03.872354",
     "status": "completed"
    },
    "tags": []
   },
   "outputs": [],
   "source": [
    "# tokenize the text\n",
    "tokenizer = Tokenizer()\n",
    "tokenizer.fit_on_texts(all_captions)\n",
    "vocab_size = len(tokenizer.word_index) + 1"
   ]
  },
  {
   "cell_type": "code",
   "execution_count": 18,
   "id": "e7301020",
   "metadata": {
    "execution": {
     "iopub.execute_input": "2022-06-14T15:28:05.710220Z",
     "iopub.status.busy": "2022-06-14T15:28:05.709074Z",
     "iopub.status.idle": "2022-06-14T15:28:05.727750Z",
     "shell.execute_reply": "2022-06-14T15:28:05.728551Z",
     "shell.execute_reply.started": "2022-06-14T15:04:36.061747Z"
    },
    "papermill": {
     "duration": 0.268338,
     "end_time": "2022-06-14T15:28:05.728782",
     "exception": false,
     "start_time": "2022-06-14T15:28:05.460444",
     "status": "completed"
    },
    "tags": []
   },
   "outputs": [
    {
     "data": {
      "text/plain": [
       "8485"
      ]
     },
     "execution_count": 18,
     "metadata": {},
     "output_type": "execute_result"
    }
   ],
   "source": [
    "vocab_size"
   ]
  },
  {
   "cell_type": "code",
   "execution_count": 19,
   "id": "ab87be00",
   "metadata": {
    "execution": {
     "iopub.execute_input": "2022-06-14T15:28:05.978520Z",
     "iopub.status.busy": "2022-06-14T15:28:05.976693Z",
     "iopub.status.idle": "2022-06-14T15:28:05.981394Z",
     "shell.execute_reply": "2022-06-14T15:28:05.980679Z",
     "shell.execute_reply.started": "2022-06-14T15:04:36.070392Z"
    },
    "papermill": {
     "duration": 0.138441,
     "end_time": "2022-06-14T15:28:05.981536",
     "exception": false,
     "start_time": "2022-06-14T15:28:05.843095",
     "status": "completed"
    },
    "tags": []
   },
   "outputs": [
    {
     "data": {
      "text/plain": [
       "35"
      ]
     },
     "execution_count": 19,
     "metadata": {},
     "output_type": "execute_result"
    }
   ],
   "source": [
    "# get max length of caption available\n",
    "max_length = max(len(caption.split()) for caption in all_captions)\n",
    "max_length"
   ]
  },
  {
   "cell_type": "markdown",
   "id": "b73d9a63",
   "metadata": {
    "papermill": {
     "duration": 0.066217,
     "end_time": "2022-06-14T15:28:06.113424",
     "exception": false,
     "start_time": "2022-06-14T15:28:06.047207",
     "status": "completed"
    },
    "tags": []
   },
   "source": [
    "# Train Test Split"
   ]
  },
  {
   "cell_type": "code",
   "execution_count": 20,
   "id": "e2e6833e",
   "metadata": {
    "execution": {
     "iopub.execute_input": "2022-06-14T15:28:06.250140Z",
     "iopub.status.busy": "2022-06-14T15:28:06.249079Z",
     "iopub.status.idle": "2022-06-14T15:28:06.251359Z",
     "shell.execute_reply": "2022-06-14T15:28:06.251945Z",
     "shell.execute_reply.started": "2022-06-14T15:04:36.107608Z"
    },
    "papermill": {
     "duration": 0.073985,
     "end_time": "2022-06-14T15:28:06.252114",
     "exception": false,
     "start_time": "2022-06-14T15:28:06.178129",
     "status": "completed"
    },
    "tags": []
   },
   "outputs": [],
   "source": [
    "image_ids = list(mapping.keys())\n",
    "split = int(len(image_ids) * 0.90)\n",
    "train = image_ids[:split]\n",
    "test = image_ids[split:]"
   ]
  },
  {
   "cell_type": "code",
   "execution_count": 21,
   "id": "d8c273f9",
   "metadata": {
    "execution": {
     "iopub.execute_input": "2022-06-14T15:28:06.391057Z",
     "iopub.status.busy": "2022-06-14T15:28:06.390197Z",
     "iopub.status.idle": "2022-06-14T15:28:06.394085Z",
     "shell.execute_reply": "2022-06-14T15:28:06.393559Z",
     "shell.execute_reply.started": "2022-06-14T15:04:36.117269Z"
    },
    "papermill": {
     "duration": 0.07803,
     "end_time": "2022-06-14T15:28:06.394320",
     "exception": false,
     "start_time": "2022-06-14T15:28:06.316290",
     "status": "completed"
    },
    "tags": []
   },
   "outputs": [],
   "source": [
    "# create data generator to get data in batch (avoids session crash)\n",
    "def data_generator(data_keys, mapping, features, tokenizer, max_length, vocab_size, batch_size):\n",
    "    # loop over images\n",
    "    X1, X2, y = list(), list(), list()\n",
    "    n = 0\n",
    "    while 1:\n",
    "        for key in data_keys:\n",
    "            n += 1\n",
    "            captions = mapping[key]\n",
    "            for caption in captions:\n",
    "                # encode the sequence\n",
    "                seq = tokenizer.texts_to_sequences([caption])[0]\n",
    "                # split sequence into x, y parts\n",
    "                for i in range(1, len(seq)):\n",
    "                    in_seq, out_seq = seq[:i], seq[i]\n",
    "                    # pad input sequence\n",
    "                    in_seq = pad_sequences([in_seq], max_length)[0]\n",
    "                    # encode output sequence\n",
    "                    out_seq = to_categorical([out_seq], num_classes=vocab_size)[0]\n",
    "                    \n",
    "                    # store the sequences\n",
    "                    X1.append(features[key][0])\n",
    "                    X2.append(in_seq)\n",
    "                    y.append(out_seq)\n",
    "            if n == batch_size:\n",
    "                X1, X2, y = np.array(X1), np.array(X2), np.array(y)\n",
    "                yield [X1, X2], y\n",
    "                X1, X2, y = list(), list(), list()\n",
    "                n=0"
   ]
  },
  {
   "cell_type": "markdown",
   "id": "da1b782e",
   "metadata": {
    "papermill": {
     "duration": 0.064065,
     "end_time": "2022-06-14T15:28:06.522183",
     "exception": false,
     "start_time": "2022-06-14T15:28:06.458118",
     "status": "completed"
    },
    "tags": []
   },
   "source": [
    "# Model Creation"
   ]
  },
  {
   "cell_type": "code",
   "execution_count": 22,
   "id": "8b47484b",
   "metadata": {
    "execution": {
     "iopub.execute_input": "2022-06-14T15:28:06.663984Z",
     "iopub.status.busy": "2022-06-14T15:28:06.662989Z",
     "iopub.status.idle": "2022-06-14T15:28:08.735134Z",
     "shell.execute_reply": "2022-06-14T15:28:08.735616Z",
     "shell.execute_reply.started": "2022-06-14T15:04:36.132273Z"
    },
    "papermill": {
     "duration": 2.14951,
     "end_time": "2022-06-14T15:28:08.735779",
     "exception": false,
     "start_time": "2022-06-14T15:28:06.586269",
     "status": "completed"
    },
    "tags": []
   },
   "outputs": [
    {
     "data": {
      "image/png": "[encoded data removed]",
      "text/plain": [
       "<IPython.core.display.Image object>"
      ]
     },
     "execution_count": 22,
     "metadata": {},
     "output_type": "execute_result"
    }
   ],
   "source": [
    "# Encoder Model\n",
    "# image feature layers\n",
    "inputs1 = Input(shape=(4096,))\n",
    "fe1 = Dropout(0.4)(inputs1)\n",
    "fe2 = Dense(256, activation='relu')(fe1)\n",
    "# sequence feature layers\n",
    "inputs2 = Input(shape=(max_length,))\n",
    "se1 = Embedding(vocab_size, 256, mask_zero=True)(inputs2)\n",
    "se2 = Dropout(0.4)(se1)\n",
    "se3 = LSTM(256)(se2)\n",
    "\n",
    "# Decoder Model\n",
    "decoder1 = add([fe2, se3])\n",
    "decoder2 = Dense(256, activation='relu')(decoder1)\n",
    "outputs = Dense(vocab_size, activation='softmax')(decoder2)\n",
    "\n",
    "model = Model(inputs=[inputs1, inputs2], outputs=outputs)\n",
    "model.compile(loss='categorical_crossentropy', optimizer='adam')\n",
    "\n",
    "# Plot the model\n",
    "plot_model(model, show_shapes=True)"
   ]
  },
  {
   "cell_type": "code",
   "execution_count": 23,
   "id": "020153d2",
   "metadata": {
    "execution": {
     "iopub.execute_input": "2022-06-14T15:28:08.877744Z",
     "iopub.status.busy": "2022-06-14T15:28:08.876821Z",
     "iopub.status.idle": "2022-06-14T15:52:45.858637Z",
     "shell.execute_reply": "2022-06-14T15:52:45.858039Z"
    },
    "papermill": {
     "duration": 1477.056507,
     "end_time": "2022-06-14T15:52:45.858814",
     "exception": false,
     "start_time": "2022-06-14T15:28:08.802307",
     "status": "completed"
    },
    "tags": []
   },
   "outputs": [
    {
     "name": "stdout",
     "output_type": "stream",
     "text": [
      "113/113 [==============================] - 67s 559ms/step - loss: 5.5994\n",
      "113/113 [==============================] - 62s 551ms/step - loss: 4.4906\n",
      "113/113 [==============================] - 63s 558ms/step - loss: 3.8605\n",
      "113/113 [==============================] - 61s 540ms/step - loss: 3.5537\n",
      "113/113 [==============================] - 63s 556ms/step - loss: 3.3431\n",
      "113/113 [==============================] - 62s 550ms/step - loss: 3.1852\n",
      "113/113 [==============================] - 62s 548ms/step - loss: 3.0534\n",
      "113/113 [==============================] - 62s 552ms/step - loss: 2.9451\n",
      "113/113 [==============================] - 62s 552ms/step - loss: 2.8568\n",
      "113/113 [==============================] - 62s 551ms/step - loss: 2.7825\n",
      "113/113 [==============================] - 62s 545ms/step - loss: 2.7125\n",
      "113/113 [==============================] - 62s 544ms/step - loss: 2.6520\n",
      "113/113 [==============================] - 62s 549ms/step - loss: 2.5984\n",
      "113/113 [==============================] - 63s 555ms/step - loss: 2.5487\n",
      "113/113 [==============================] - 64s 562ms/step - loss: 2.5051\n",
      "113/113 [==============================] - 63s 559ms/step - loss: 2.4635\n",
      "113/113 [==============================] - 64s 569ms/step - loss: 2.4270\n",
      "113/113 [==============================] - 64s 562ms/step - loss: 2.3962\n",
      "113/113 [==============================] - 64s 568ms/step - loss: 2.3609\n",
      "113/113 [==============================] - 63s 559ms/step - loss: 2.3266\n"
     ]
    }
   ],
   "source": [
    "# train the model\n",
    "epochs = 20\n",
    "batch_size = 64\n",
    "steps = len(train) // batch_size\n",
    "\n",
    "for i in range(epochs):\n",
    "    # create data generator\n",
    "    generator = data_generator(train, mapping, features, tokenizer, max_length, vocab_size, batch_size)\n",
    "    # fit for one epoch\n",
    "    model.fit(generator, epochs=1, steps_per_epoch=steps, verbose=1)"
   ]
  },
  {
   "cell_type": "code",
   "execution_count": 24,
   "id": "9f7508f2",
   "metadata": {
    "execution": {
     "iopub.execute_input": "2022-06-14T15:52:48.221349Z",
     "iopub.status.busy": "2022-06-14T15:52:48.220119Z",
     "iopub.status.idle": "2022-06-14T15:52:48.384579Z",
     "shell.execute_reply": "2022-06-14T15:52:48.385071Z"
    },
    "papermill": {
     "duration": 1.631598,
     "end_time": "2022-06-14T15:52:48.385266",
     "exception": false,
     "start_time": "2022-06-14T15:52:46.753668",
     "status": "completed"
    },
    "tags": []
   },
   "outputs": [
    {
     "name": "stderr",
     "output_type": "stream",
     "text": [
      "/opt/conda/lib/python3.7/site-packages/keras/utils/generic_utils.py:497: CustomMaskWarning: Custom mask layers require a config and must override get_config. When loading, the custom mask layer must be passed to the custom_objects argument.\n",
      "  category=CustomMaskWarning)\n"
     ]
    }
   ],
   "source": [
    "# save the model\n",
    "model.save(WORKING_DIR+'/best_model.h5')"
   ]
  },
  {
   "cell_type": "markdown",
   "id": "c7571e88",
   "metadata": {
    "papermill": {
     "duration": 1.189996,
     "end_time": "2022-06-14T15:52:50.526504",
     "exception": false,
     "start_time": "2022-06-14T15:52:49.336508",
     "status": "completed"
    },
    "tags": []
   },
   "source": [
    "# Generate captions for the image"
   ]
  },
  {
   "cell_type": "code",
   "execution_count": 25,
   "id": "ad0b5909",
   "metadata": {
    "execution": {
     "iopub.execute_input": "2022-06-14T15:52:52.307924Z",
     "iopub.status.busy": "2022-06-14T15:52:52.306613Z",
     "iopub.status.idle": "2022-06-14T15:52:52.308627Z",
     "shell.execute_reply": "2022-06-14T15:52:52.309297Z"
    },
    "papermill": {
     "duration": 0.894048,
     "end_time": "2022-06-14T15:52:52.309491",
     "exception": false,
     "start_time": "2022-06-14T15:52:51.415443",
     "status": "completed"
    },
    "tags": []
   },
   "outputs": [],
   "source": [
    "def idx_to_word(integer, tokenizer):\n",
    "    for word, index in tokenizer.word_index.items():\n",
    "        if index == integer:\n",
    "            return word\n",
    "    return None"
   ]
  },
  {
   "cell_type": "code",
   "execution_count": 26,
   "id": "55a0ef2a",
   "metadata": {
    "execution": {
     "iopub.execute_input": "2022-06-14T15:52:54.093408Z",
     "iopub.status.busy": "2022-06-14T15:52:54.092513Z",
     "iopub.status.idle": "2022-06-14T15:52:54.095499Z",
     "shell.execute_reply": "2022-06-14T15:52:54.095005Z"
    },
    "papermill": {
     "duration": 0.898874,
     "end_time": "2022-06-14T15:52:54.095635",
     "exception": false,
     "start_time": "2022-06-14T15:52:53.196761",
     "status": "completed"
    },
    "tags": []
   },
   "outputs": [],
   "source": [
    "# generate caption for an image\n",
    "def predict_caption(model, image, tokenizer, max_length):\n",
    "    # add start tag for generation process\n",
    "    in_text = 'startseq'\n",
    "    # iterate over the max length of sequence\n",
    "    for i in range(max_length):\n",
    "        # encode input sequence\n",
    "        sequence = tokenizer.texts_to_sequences([in_text])[0]\n",
    "        # pad the sequence\n",
    "        sequence = pad_sequences([sequence], max_length)\n",
    "        # predict next word\n",
    "        yhat = model.predict([image, sequence], verbose=0)\n",
    "        # get index with high probability\n",
    "        yhat = np.argmax(yhat)\n",
    "        # convert index to word\n",
    "        word = idx_to_word(yhat, tokenizer)\n",
    "        # stop if word not found\n",
    "        if word is None:\n",
    "            break\n",
    "        # append word as input for generating next word\n",
    "        in_text += \" \" + word\n",
    "        # stop if we reach end tag\n",
    "        if word == 'endseq':\n",
    "            break\n",
    "    return in_text"
   ]
  },
  {
   "cell_type": "code",
   "execution_count": 27,
   "id": "52919800",
   "metadata": {
    "execution": {
     "iopub.execute_input": "2022-06-14T15:52:55.884813Z",
     "iopub.status.busy": "2022-06-14T15:52:55.884015Z",
     "iopub.status.idle": "2022-06-14T15:59:49.581430Z",
     "shell.execute_reply": "2022-06-14T15:59:49.582168Z"
    },
    "papermill": {
     "duration": 414.604477,
     "end_time": "2022-06-14T15:59:49.582434",
     "exception": false,
     "start_time": "2022-06-14T15:52:54.977957",
     "status": "completed"
    },
    "tags": []
   },
   "outputs": [
    {
     "data": {
      "application/vnd.jupyter.widget-view+json": {
       "model_id": "42db7f1dc3894392b79a363da5d7ae1b",
       "version_major": 2,
       "version_minor": 0
      },
      "text/plain": [
       "  0%|          | 0/810 [00:00<?, ?it/s]"
      ]
     },
     "metadata": {},
     "output_type": "display_data"
    },
    {
     "name": "stdout",
     "output_type": "stream",
     "text": [
      "BLEU-1: 0.555157\n",
      "BLEU-2: 0.330532\n"
     ]
    }
   ],
   "source": [
    "from nltk.translate.bleu_score import corpus_bleu\n",
    "# validate with test data\n",
    "actual, predicted = list(), list()\n",
    "\n",
    "for key in tqdm(test):\n",
    "    # get actual caption\n",
    "    captions = mapping[key]\n",
    "    # predict the caption for image\n",
    "    y_pred = predict_caption(model, features[key], tokenizer, max_length)\n",
    "    # split into words\n",
    "    actual_captions = [caption.split() for caption in captions]\n",
    "    y_pred = y_pred.split()\n",
    "    # append to the list\n",
    "    actual.append(actual_captions)\n",
    "    predicted.append(y_pred)\n",
    "    \n",
    "# calculate BLEU Score\n",
    "print(\"BLEU-1: %f\" % corpus_bleu(actual, predicted, weights=(1.0, 0, 0, 0)))\n",
    "print(\"BLEU-2: %f\" % corpus_bleu(actual, predicted, weights=(0.5, 0.5, 0, 0)))"
   ]
  },
  {
   "cell_type": "markdown",
   "id": "3e154928",
   "metadata": {
    "papermill": {
     "duration": 0.859765,
     "end_time": "2022-06-14T15:59:51.305290",
     "exception": false,
     "start_time": "2022-06-14T15:59:50.445525",
     "status": "completed"
    },
    "tags": []
   },
   "source": [
    "# Visualize the Results"
   ]
  },
  {
   "cell_type": "code",
   "execution_count": 28,
   "id": "52d9f9fd",
   "metadata": {
    "execution": {
     "iopub.execute_input": "2022-06-14T15:59:53.047684Z",
     "iopub.status.busy": "2022-06-14T15:59:53.045878Z",
     "iopub.status.idle": "2022-06-14T15:59:53.048344Z",
     "shell.execute_reply": "2022-06-14T15:59:53.048819Z"
    },
    "papermill": {
     "duration": 0.878137,
     "end_time": "2022-06-14T15:59:53.048969",
     "exception": false,
     "start_time": "2022-06-14T15:59:52.170832",
     "status": "completed"
    },
    "tags": []
   },
   "outputs": [],
   "source": [
    "from PIL import Image\n",
    "import matplotlib.pyplot as plt\n",
    "def generate_caption(image_name):\n",
    "    # load the image\n",
    "    # image_name = '1001773457_577c3a7d70.jpg'\n",
    "    image_id = image_name.split('.')[0]\n",
    "    img_path = os.path.join(BASE_DIR, \"Images\", image_name)\n",
    "    image = Image.open(img_path)\n",
    "    captions = mapping[image_id]\n",
    "    print(\"------------Actual--------------\")\n",
    "    for caption in captions:\n",
    "        print(caption)\n",
    "    # predict the caption\n",
    "    y_pred = predict_caption(model, features[image_id], tokenizer, max_length)\n",
    "    print(\"-----------Predicted-------------\")\n",
    "    print(y_pred)\n",
    "    plt.imshow(image)"
   ]
  },
  {
   "cell_type": "code",
   "execution_count": 29,
   "id": "8504da56",
   "metadata": {
    "execution": {
     "iopub.execute_input": "2022-06-14T15:59:54.789157Z",
     "iopub.status.busy": "2022-06-14T15:59:54.788068Z",
     "iopub.status.idle": "2022-06-14T15:59:55.601078Z",
     "shell.execute_reply": "2022-06-14T15:59:55.601571Z"
    },
    "papermill": {
     "duration": 1.686574,
     "end_time": "2022-06-14T15:59:55.601745",
     "exception": false,
     "start_time": "2022-06-14T15:59:53.915171",
     "status": "completed"
    },
    "tags": []
   },
   "outputs": [
    {
     "name": "stdout",
     "output_type": "stream",
     "text": [
      "------------Actual--------------\n",
      "startseq black dog and spotted dog are fighting endseq\n",
      "startseq black dog and tri-colored dog playing with each other on the road endseq\n",
      "startseq black dog and white dog with brown spots are staring at each other in the street endseq\n",
      "startseq two dogs of different breeds looking at each other on the road endseq\n",
      "startseq two dogs on pavement moving toward each other endseq\n",
      "-----------Predicted-------------\n",
      "startseq two dogs are playing with ball in the yard endseq\n"
     ]
    },
    {
     "data": {
      "image/png": "[encoded data removed]",
      "text/plain": [
       "<Figure size 432x288 with 1 Axes>"
      ]
     },
     "metadata": {
      "needs_background": "light"
     },
     "output_type": "display_data"
    }
   ],
   "source": [
    "generate_caption('1001773457_577c3a7d70.jpg')"
   ]
  },
  {
   "cell_type": "code",
   "execution_count": null,
   "id": "c796f853",
   "metadata": {
    "papermill": {
     "duration": 0.871379,
     "end_time": "2022-06-14T15:59:57.354857",
     "exception": false,
     "start_time": "2022-06-14T15:59:56.483478",
     "status": "completed"
    },
    "tags": []
   },
   "outputs": [],
   "source": []
  },
  {
   "cell_type": "code",
   "execution_count": null,
   "id": "66264a34",
   "metadata": {
    "papermill": {
     "duration": 1.166657,
     "end_time": "2022-06-14T15:59:59.390461",
     "exception": false,
     "start_time": "2022-06-14T15:59:58.223804",
     "status": "completed"
    },
    "tags": []
   },
   "outputs": [],
   "source": []
  },
  {
   "cell_type": "code",
   "execution_count": null,
   "id": "666e1822",
   "metadata": {
    "papermill": {
     "duration": 0.882111,
     "end_time": "2022-06-14T16:00:01.193925",
     "exception": false,
     "start_time": "2022-06-14T16:00:00.311814",
     "status": "completed"
    },
    "tags": []
   },
   "outputs": [],
   "source": []
  },
  {
   "cell_type": "code",
   "execution_count": null,
   "id": "0a189412",
   "metadata": {
    "papermill": {
     "duration": 0.861194,
     "end_time": "2022-06-14T16:00:02.925919",
     "exception": false,
     "start_time": "2022-06-14T16:00:02.064725",
     "status": "completed"
    },
    "tags": []
   },
   "outputs": [],
   "source": []
  },
  {
   "cell_type": "code",
   "execution_count": null,
   "id": "f27bae0c",
   "metadata": {
    "papermill": {
     "duration": 1.393612,
     "end_time": "2022-06-14T16:00:05.255232",
     "exception": false,
     "start_time": "2022-06-14T16:00:03.861620",
     "status": "completed"
    },
    "tags": []
   },
   "outputs": [],
   "source": []
  }
 ],
 "metadata": {
  "kernelspec": {
   "display_name": "Python 3",
   "language": "python",
   "name": "python3"
  },
  "language_info": {
   "codemirror_mode": {
    "name": "ipython",
    "version": 3
   },
   "file_extension": ".py",
   "mimetype": "text/x-python",
   "name": "python",
   "nbconvert_exporter": "python",
   "pygments_lexer": "ipython3",
   "version": "3.7.12"
  },
  "papermill": {
   "default_parameters": {},
   "duration": 2563.749077,
   "end_time": "2022-06-14T16:00:10.113052",
   "environment_variables": {},
   "exception": null,
   "input_path": "__notebook__.ipynb",
   "output_path": "__notebook__.ipynb",
   "parameters": {},
   "start_time": "2022-06-14T15:17:26.363975",
   "version": "2.3.3"
  },
  "widgets": {
   "application/vnd.jupyter.widget-state+json": {
    "state": {
     "01f34cfa76a44ce1a7f4757348dcc0f8": {
      "model_module": "@jupyter-widgets/controls",
      "model_module_version": "1.5.0",
      "model_name": "ProgressStyleModel",
      "state": {
       "_model_module": "@jupyter-widgets/controls",
       "_model_module_version": "1.5.0",
       "_model_name": "ProgressStyleModel",
       "_view_count": null,
       "_view_module": "@jupyter-widgets/base",
       "_view_module_version": "1.2.0",
       "_view_name": "StyleView",
       "bar_color": null,
       "description_width": ""
      }
     },
     "052a8a01f557479fbf0293ea52d030c7": {
      "model_module": "@jupyter-widgets/base",
      "model_module_version": "1.2.0",
      "model_name": "LayoutModel",
      "state": {
       "_model_module": "@jupyter-widgets/base",
       "_model_module_version": "1.2.0",
       "_model_name": "LayoutModel",
       "_view_count": null,
       "_view_module": "@jupyter-widgets/base",
       "_view_module_version": "1.2.0",
       "_view_name": "LayoutView",
       "align_content": null,
       "align_items": null,
       "align_self": null,
       "border": null,
       "bottom": null,
       "display": null,
       "flex": null,
       "flex_flow": null,
       "grid_area": null,
       "grid_auto_columns": null,
       "grid_auto_flow": null,
       "grid_auto_rows": null,
       "grid_column": null,
       "grid_gap": null,
       "grid_row": null,
       "grid_template_areas": null,
       "grid_template_columns": null,
       "grid_template_rows": null,
       "height": null,
       "justify_content": null,
       "justify_items": null,
       "left": null,
       "margin": null,
       "max_height": null,
       "max_width": null,
       "min_height": null,
       "min_width": null,
       "object_fit": null,
       "object_position": null,
       "order": null,
       "overflow": null,
       "overflow_x": null,
       "overflow_y": null,
       "padding": null,
       "right": null,
       "top": null,
       "visibility": null,
       "width": null
      }
     },
     "189e4ee72b3f4af7a0f3d84db0cfc308": {
      "model_module": "@jupyter-widgets/base",
      "model_module_version": "1.2.0",
      "model_name": "LayoutModel",
      "state": {
       "_model_module": "@jupyter-widgets/base",
       "_model_module_version": "1.2.0",
       "_model_name": "LayoutModel",
       "_view_count": null,
       "_view_module": "@jupyter-widgets/base",
       "_view_module_version": "1.2.0",
       "_view_name": "LayoutView",
       "align_content": null,
       "align_items": null,
       "align_self": null,
       "border": null,
       "bottom": null,
       "display": null,
       "flex": null,
       "flex_flow": null,
       "grid_area": null,
       "grid_auto_columns": null,
       "grid_auto_flow": null,
       "grid_auto_rows": null,
       "grid_column": null,
       "grid_gap": null,
       "grid_row": null,
       "grid_template_areas": null,
       "grid_template_columns": null,
       "grid_template_rows": null,
       "height": null,
       "justify_content": null,
       "justify_items": null,
       "left": null,
       "margin": null,
       "max_height": null,
       "max_width": null,
       "min_height": null,
       "min_width": null,
       "object_fit": null,
       "object_position": null,
       "order": null,
       "overflow": null,
       "overflow_x": null,
       "overflow_y": null,
       "padding": null,
       "right": null,
       "top": null,
       "visibility": null,
       "width": null
      }
     },
     "33712b31b57e4debb7c4005beefaf059": {
      "model_module": "@jupyter-widgets/base",
      "model_module_version": "1.2.0",
      "model_name": "LayoutModel",
      "state": {
       "_model_module": "@jupyter-widgets/base",
       "_model_module_version": "1.2.0",
       "_model_name": "LayoutModel",
       "_view_count": null,
       "_view_module": "@jupyter-widgets/base",
       "_view_module_version": "1.2.0",
       "_view_name": "LayoutView",
       "align_content": null,
       "align_items": null,
       "align_self": null,
       "border": null,
       "bottom": null,
       "display": null,
       "flex": null,
       "flex_flow": null,
       "grid_area": null,
       "grid_auto_columns": null,
       "grid_auto_flow": null,
       "grid_auto_rows": null,
       "grid_column": null,
       "grid_gap": null,
       "grid_row": null,
       "grid_template_areas": null,
       "grid_template_columns": null,
       "grid_template_rows": null,
       "height": null,
       "justify_content": null,
       "justify_items": null,
       "left": null,
       "margin": null,
       "max_height": null,
       "max_width": null,
       "min_height": null,
       "min_width": null,
       "object_fit": null,
       "object_position": null,
       "order": null,
       "overflow": null,
       "overflow_x": null,
       "overflow_y": null,
       "padding": null,
       "right": null,
       "top": null,
       "visibility": null,
       "width": null
      }
     },
     "42db7f1dc3894392b79a363da5d7ae1b": {
      "model_module": "@jupyter-widgets/controls",
      "model_module_version": "1.5.0",
      "model_name": "HBoxModel",
      "state": {
       "_dom_classes": [],
       "_model_module": "@jupyter-widgets/controls",
       "_model_module_version": "1.5.0",
       "_model_name": "HBoxModel",
       "_view_count": null,
       "_view_module": "@jupyter-widgets/controls",
       "_view_module_version": "1.5.0",
       "_view_name": "HBoxView",
       "box_style": "",
       "children": [
        "IPY_MODEL_49a55adc2a304782baa23b9083007d23",
        "IPY_MODEL_900d52b17f204fc0afe62b1a801158b7",
        "IPY_MODEL_64cefd2c1fc9487099d1c0babd9edfab"
       ],
       "layout": "IPY_MODEL_be75ca52fb7a4c149bc2144807d41dc9"
      }
     },
     "46bcb4d2bb4c49359ef737108b5aca84": {
      "model_module": "@jupyter-widgets/controls",
      "model_module_version": "1.5.0",
      "model_name": "DescriptionStyleModel",
      "state": {
       "_model_module": "@jupyter-widgets/controls",
       "_model_module_version": "1.5.0",
       "_model_name": "DescriptionStyleModel",
       "_view_count": null,
       "_view_module": "@jupyter-widgets/base",
       "_view_module_version": "1.2.0",
       "_view_name": "StyleView",
       "description_width": ""
      }
     },
     "498096a2f9fd4f94b9d60113a0b90491": {
      "model_module": "@jupyter-widgets/controls",
      "model_module_version": "1.5.0",
      "model_name": "DescriptionStyleModel",
      "state": {
       "_model_module": "@jupyter-widgets/controls",
       "_model_module_version": "1.5.0",
       "_model_name": "DescriptionStyleModel",
       "_view_count": null,
       "_view_module": "@jupyter-widgets/base",
       "_view_module_version": "1.2.0",
       "_view_name": "StyleView",
       "description_width": ""
      }
     },
     "49a55adc2a304782baa23b9083007d23": {
      "model_module": "@jupyter-widgets/controls",
      "model_module_version": "1.5.0",
      "model_name": "HTMLModel",
      "state": {
       "_dom_classes": [],
       "_model_module": "@jupyter-widgets/controls",
       "_model_module_version": "1.5.0",
       "_model_name": "HTMLModel",
       "_view_count": null,
       "_view_module": "@jupyter-widgets/controls",
       "_view_module_version": "1.5.0",
       "_view_name": "HTMLView",
       "description": "",
       "description_tooltip": null,
       "layout": "IPY_MODEL_189e4ee72b3f4af7a0f3d84db0cfc308",
       "placeholder": "​",
       "style": "IPY_MODEL_46bcb4d2bb4c49359ef737108b5aca84",
       "value": "100%"
      }
     },
     "4c79eff6a5f94ba6afee98de299b8092": {
      "model_module": "@jupyter-widgets/base",
      "model_module_version": "1.2.0",
      "model_name": "LayoutModel",
      "state": {
       "_model_module": "@jupyter-widgets/base",
       "_model_module_version": "1.2.0",
       "_model_name": "LayoutModel",
       "_view_count": null,
       "_view_module": "@jupyter-widgets/base",
       "_view_module_version": "1.2.0",
       "_view_name": "LayoutView",
       "align_content": null,
       "align_items": null,
       "align_self": null,
       "border": null,
       "bottom": null,
       "display": null,
       "flex": null,
       "flex_flow": null,
       "grid_area": null,
       "grid_auto_columns": null,
       "grid_auto_flow": null,
       "grid_auto_rows": null,
       "grid_column": null,
       "grid_gap": null,
       "grid_row": null,
       "grid_template_areas": null,
       "grid_template_columns": null,
       "grid_template_rows": null,
       "height": null,
       "justify_content": null,
       "justify_items": null,
       "left": null,
       "margin": null,
       "max_height": null,
       "max_width": null,
       "min_height": null,
       "min_width": null,
       "object_fit": null,
       "object_position": null,
       "order": null,
       "overflow": null,
       "overflow_x": null,
       "overflow_y": null,
       "padding": null,
       "right": null,
       "top": null,
       "visibility": null,
       "width": null
      }
     },
     "5651700507054582ba5e2c904b398b9e": {
      "model_module": "@jupyter-widgets/controls",
      "model_module_version": "1.5.0",
      "model_name": "DescriptionStyleModel",
      "state": {
       "_model_module": "@jupyter-widgets/controls",
       "_model_module_version": "1.5.0",
       "_model_name": "DescriptionStyleModel",
       "_view_count": null,
       "_view_module": "@jupyter-widgets/base",
       "_view_module_version": "1.2.0",
       "_view_name": "StyleView",
       "description_width": ""
      }
     },
     "566dad62db8943baa58d158d51c91ec4": {
      "model_module": "@jupyter-widgets/controls",
      "model_module_version": "1.5.0",
      "model_name": "ProgressStyleModel",
      "state": {
       "_model_module": "@jupyter-widgets/controls",
       "_model_module_version": "1.5.0",
       "_model_name": "ProgressStyleModel",
       "_view_count": null,
       "_view_module": "@jupyter-widgets/base",
       "_view_module_version": "1.2.0",
       "_view_name": "StyleView",
       "bar_color": null,
       "description_width": ""
      }
     },
     "589c600309bb41408012a881c1dd01fe": {
      "model_module": "@jupyter-widgets/base",
      "model_module_version": "1.2.0",
      "model_name": "LayoutModel",
      "state": {
       "_model_module": "@jupyter-widgets/base",
       "_model_module_version": "1.2.0",
       "_model_name": "LayoutModel",
       "_view_count": null,
       "_view_module": "@jupyter-widgets/base",
       "_view_module_version": "1.2.0",
       "_view_name": "LayoutView",
       "align_content": null,
       "align_items": null,
       "align_self": null,
       "border": null,
       "bottom": null,
       "display": null,
       "flex": null,
       "flex_flow": null,
       "grid_area": null,
       "grid_auto_columns": null,
       "grid_auto_flow": null,
       "grid_auto_rows": null,
       "grid_column": null,
       "grid_gap": null,
       "grid_row": null,
       "grid_template_areas": null,
       "grid_template_columns": null,
       "grid_template_rows": null,
       "height": null,
       "justify_content": null,
       "justify_items": null,
       "left": null,
       "margin": null,
       "max_height": null,
       "max_width": null,
       "min_height": null,
       "min_width": null,
       "object_fit": null,
       "object_position": null,
       "order": null,
       "overflow": null,
       "overflow_x": null,
       "overflow_y": null,
       "padding": null,
       "right": null,
       "top": null,
       "visibility": null,
       "width": null
      }
     },
     "64cefd2c1fc9487099d1c0babd9edfab": {
      "model_module": "@jupyter-widgets/controls",
      "model_module_version": "1.5.0",
      "model_name": "HTMLModel",
      "state": {
       "_dom_classes": [],
       "_model_module": "@jupyter-widgets/controls",
       "_model_module_version": "1.5.0",
       "_model_name": "HTMLModel",
       "_view_count": null,
       "_view_module": "@jupyter-widgets/controls",
       "_view_module_version": "1.5.0",
       "_view_name": "HTMLView",
       "description": "",
       "description_tooltip": null,
       "layout": "IPY_MODEL_ea55405d3a984139adb69b2533401525",
       "placeholder": "​",
       "style": "IPY_MODEL_c98a454a3cb9476e979a9c6c17516eef",
       "value": " 810/810 [06:50&lt;00:00,  1.91it/s]"
      }
     },
     "70a7a045c6fa4b21892033993500855a": {
      "model_module": "@jupyter-widgets/base",
      "model_module_version": "1.2.0",
      "model_name": "LayoutModel",
      "state": {
       "_model_module": "@jupyter-widgets/base",
       "_model_module_version": "1.2.0",
       "_model_name": "LayoutModel",
       "_view_count": null,
       "_view_module": "@jupyter-widgets/base",
       "_view_module_version": "1.2.0",
       "_view_name": "LayoutView",
       "align_content": null,
       "align_items": null,
       "align_self": null,
       "border": null,
       "bottom": null,
       "display": null,
       "flex": null,
       "flex_flow": null,
       "grid_area": null,
       "grid_auto_columns": null,
       "grid_auto_flow": null,
       "grid_auto_rows": null,
       "grid_column": null,
       "grid_gap": null,
       "grid_row": null,
       "grid_template_areas": null,
       "grid_template_columns": null,
       "grid_template_rows": null,
       "height": null,
       "justify_content": null,
       "justify_items": null,
       "left": null,
       "margin": null,
       "max_height": null,
       "max_width": null,
       "min_height": null,
       "min_width": null,
       "object_fit": null,
       "object_position": null,
       "order": null,
       "overflow": null,
       "overflow_x": null,
       "overflow_y": null,
       "padding": null,
       "right": null,
       "top": null,
       "visibility": null,
       "width": null
      }
     },
     "7cbda771fd9f4151854f608eab27766c": {
      "model_module": "@jupyter-widgets/controls",
      "model_module_version": "1.5.0",
      "model_name": "FloatProgressModel",
      "state": {
       "_dom_classes": [],
       "_model_module": "@jupyter-widgets/controls",
       "_model_module_version": "1.5.0",
       "_model_name": "FloatProgressModel",
       "_view_count": null,
       "_view_module": "@jupyter-widgets/controls",
       "_view_module_version": "1.5.0",
       "_view_name": "ProgressView",
       "bar_style": "success",
       "description": "",
       "description_tooltip": null,
       "layout": "IPY_MODEL_d98daa3c7fe640478bfc0e5fa5569a1a",
       "max": 40456.0,
       "min": 0.0,
       "orientation": "horizontal",
       "style": "IPY_MODEL_01f34cfa76a44ce1a7f4757348dcc0f8",
       "value": 40456.0
      }
     },
     "7ee5b926deaa4bc0983cb49646fa4af9": {
      "model_module": "@jupyter-widgets/controls",
      "model_module_version": "1.5.0",
      "model_name": "HTMLModel",
      "state": {
       "_dom_classes": [],
       "_model_module": "@jupyter-widgets/controls",
       "_model_module_version": "1.5.0",
       "_model_name": "HTMLModel",
       "_view_count": null,
       "_view_module": "@jupyter-widgets/controls",
       "_view_module_version": "1.5.0",
       "_view_name": "HTMLView",
       "description": "",
       "description_tooltip": null,
       "layout": "IPY_MODEL_589c600309bb41408012a881c1dd01fe",
       "placeholder": "​",
       "style": "IPY_MODEL_d01f6326ddf04ac1ac286915c9ac23f8",
       "value": " 8091/8091 [10:10&lt;00:00, 13.35it/s]"
      }
     },
     "7f3fb0ada3de4c9d9a347fd1cc652abc": {
      "model_module": "@jupyter-widgets/controls",
      "model_module_version": "1.5.0",
      "model_name": "HTMLModel",
      "state": {
       "_dom_classes": [],
       "_model_module": "@jupyter-widgets/controls",
       "_model_module_version": "1.5.0",
       "_model_name": "HTMLModel",
       "_view_count": null,
       "_view_module": "@jupyter-widgets/controls",
       "_view_module_version": "1.5.0",
       "_view_name": "HTMLView",
       "description": "",
       "description_tooltip": null,
       "layout": "IPY_MODEL_33712b31b57e4debb7c4005beefaf059",
       "placeholder": "​",
       "style": "IPY_MODEL_a8ea319399044a48901de9f49cd7e6db",
       "value": "100%"
      }
     },
     "8e2e62a4c578466289b1d469e2ace786": {
      "model_module": "@jupyter-widgets/controls",
      "model_module_version": "1.5.0",
      "model_name": "FloatProgressModel",
      "state": {
       "_dom_classes": [],
       "_model_module": "@jupyter-widgets/controls",
       "_model_module_version": "1.5.0",
       "_model_name": "FloatProgressModel",
       "_view_count": null,
       "_view_module": "@jupyter-widgets/controls",
       "_view_module_version": "1.5.0",
       "_view_name": "ProgressView",
       "bar_style": "success",
       "description": "",
       "description_tooltip": null,
       "layout": "IPY_MODEL_052a8a01f557479fbf0293ea52d030c7",
       "max": 8091.0,
       "min": 0.0,
       "orientation": "horizontal",
       "style": "IPY_MODEL_566dad62db8943baa58d158d51c91ec4",
       "value": 8091.0
      }
     },
     "900d52b17f204fc0afe62b1a801158b7": {
      "model_module": "@jupyter-widgets/controls",
      "model_module_version": "1.5.0",
      "model_name": "FloatProgressModel",
      "state": {
       "_dom_classes": [],
       "_model_module": "@jupyter-widgets/controls",
       "_model_module_version": "1.5.0",
       "_model_name": "FloatProgressModel",
       "_view_count": null,
       "_view_module": "@jupyter-widgets/controls",
       "_view_module_version": "1.5.0",
       "_view_name": "ProgressView",
       "bar_style": "success",
       "description": "",
       "description_tooltip": null,
       "layout": "IPY_MODEL_ef337966f4b849848d1281ca6673f896",
       "max": 810.0,
       "min": 0.0,
       "orientation": "horizontal",
       "style": "IPY_MODEL_dce60bfc483e4eeda2bec9eee2bdd57a",
       "value": 810.0
      }
     },
     "993a7926cc4c4d2882ea9a522463675e": {
      "model_module": "@jupyter-widgets/base",
      "model_module_version": "1.2.0",
      "model_name": "LayoutModel",
      "state": {
       "_model_module": "@jupyter-widgets/base",
       "_model_module_version": "1.2.0",
       "_model_name": "LayoutModel",
       "_view_count": null,
       "_view_module": "@jupyter-widgets/base",
       "_view_module_version": "1.2.0",
       "_view_name": "LayoutView",
       "align_content": null,
       "align_items": null,
       "align_self": null,
       "border": null,
       "bottom": null,
       "display": null,
       "flex": null,
       "flex_flow": null,
       "grid_area": null,
       "grid_auto_columns": null,
       "grid_auto_flow": null,
       "grid_auto_rows": null,
       "grid_column": null,
       "grid_gap": null,
       "grid_row": null,
       "grid_template_areas": null,
       "grid_template_columns": null,
       "grid_template_rows": null,
       "height": null,
       "justify_content": null,
       "justify_items": null,
       "left": null,
       "margin": null,
       "max_height": null,
       "max_width": null,
       "min_height": null,
       "min_width": null,
       "object_fit": null,
       "object_position": null,
       "order": null,
       "overflow": null,
       "overflow_x": null,
       "overflow_y": null,
       "padding": null,
       "right": null,
       "top": null,
       "visibility": null,
       "width": null
      }
     },
     "9fe23cce26d14d9bade50055e51bd8f0": {
      "model_module": "@jupyter-widgets/controls",
      "model_module_version": "1.5.0",
      "model_name": "HTMLModel",
      "state": {
       "_dom_classes": [],
       "_model_module": "@jupyter-widgets/controls",
       "_model_module_version": "1.5.0",
       "_model_name": "HTMLModel",
       "_view_count": null,
       "_view_module": "@jupyter-widgets/controls",
       "_view_module_version": "1.5.0",
       "_view_name": "HTMLView",
       "description": "",
       "description_tooltip": null,
       "layout": "IPY_MODEL_f0874bb1e6b04a45ba81e35efe7494e6",
       "placeholder": "​",
       "style": "IPY_MODEL_498096a2f9fd4f94b9d60113a0b90491",
       "value": "100%"
      }
     },
     "a8ea319399044a48901de9f49cd7e6db": {
      "model_module": "@jupyter-widgets/controls",
      "model_module_version": "1.5.0",
      "model_name": "DescriptionStyleModel",
      "state": {
       "_model_module": "@jupyter-widgets/controls",
       "_model_module_version": "1.5.0",
       "_model_name": "DescriptionStyleModel",
       "_view_count": null,
       "_view_module": "@jupyter-widgets/base",
       "_view_module_version": "1.2.0",
       "_view_name": "StyleView",
       "description_width": ""
      }
     },
     "be75ca52fb7a4c149bc2144807d41dc9": {
      "model_module": "@jupyter-widgets/base",
      "model_module_version": "1.2.0",
      "model_name": "LayoutModel",
      "state": {
       "_model_module": "@jupyter-widgets/base",
       "_model_module_version": "1.2.0",
       "_model_name": "LayoutModel",
       "_view_count": null,
       "_view_module": "@jupyter-widgets/base",
       "_view_module_version": "1.2.0",
       "_view_name": "LayoutView",
       "align_content": null,
       "align_items": null,
       "align_self": null,
       "border": null,
       "bottom": null,
       "display": null,
       "flex": null,
       "flex_flow": null,
       "grid_area": null,
       "grid_auto_columns": null,
       "grid_auto_flow": null,
       "grid_auto_rows": null,
       "grid_column": null,
       "grid_gap": null,
       "grid_row": null,
       "grid_template_areas": null,
       "grid_template_columns": null,
       "grid_template_rows": null,
       "height": null,
       "justify_content": null,
       "justify_items": null,
       "left": null,
       "margin": null,
       "max_height": null,
       "max_width": null,
       "min_height": null,
       "min_width": null,
       "object_fit": null,
       "object_position": null,
       "order": null,
       "overflow": null,
       "overflow_x": null,
       "overflow_y": null,
       "padding": null,
       "right": null,
       "top": null,
       "visibility": null,
       "width": null
      }
     },
     "c98a454a3cb9476e979a9c6c17516eef": {
      "model_module": "@jupyter-widgets/controls",
      "model_module_version": "1.5.0",
      "model_name": "DescriptionStyleModel",
      "state": {
       "_model_module": "@jupyter-widgets/controls",
       "_model_module_version": "1.5.0",
       "_model_name": "DescriptionStyleModel",
       "_view_count": null,
       "_view_module": "@jupyter-widgets/base",
       "_view_module_version": "1.2.0",
       "_view_name": "StyleView",
       "description_width": ""
      }
     },
     "d01f6326ddf04ac1ac286915c9ac23f8": {
      "model_module": "@jupyter-widgets/controls",
      "model_module_version": "1.5.0",
      "model_name": "DescriptionStyleModel",
      "state": {
       "_model_module": "@jupyter-widgets/controls",
       "_model_module_version": "1.5.0",
       "_model_name": "DescriptionStyleModel",
       "_view_count": null,
       "_view_module": "@jupyter-widgets/base",
       "_view_module_version": "1.2.0",
       "_view_name": "StyleView",
       "description_width": ""
      }
     },
     "d1d0c19355cd4b809302d08a924c6389": {
      "model_module": "@jupyter-widgets/controls",
      "model_module_version": "1.5.0",
      "model_name": "HTMLModel",
      "state": {
       "_dom_classes": [],
       "_model_module": "@jupyter-widgets/controls",
       "_model_module_version": "1.5.0",
       "_model_name": "HTMLModel",
       "_view_count": null,
       "_view_module": "@jupyter-widgets/controls",
       "_view_module_version": "1.5.0",
       "_view_name": "HTMLView",
       "description": "",
       "description_tooltip": null,
       "layout": "IPY_MODEL_70a7a045c6fa4b21892033993500855a",
       "placeholder": "​",
       "style": "IPY_MODEL_5651700507054582ba5e2c904b398b9e",
       "value": " 40456/40456 [00:00&lt;00:00, 238621.54it/s]"
      }
     },
     "d3c43ef1d0b442f4a64c86ea5beebc41": {
      "model_module": "@jupyter-widgets/controls",
      "model_module_version": "1.5.0",
      "model_name": "HBoxModel",
      "state": {
       "_dom_classes": [],
       "_model_module": "@jupyter-widgets/controls",
       "_model_module_version": "1.5.0",
       "_model_name": "HBoxModel",
       "_view_count": null,
       "_view_module": "@jupyter-widgets/controls",
       "_view_module_version": "1.5.0",
       "_view_name": "HBoxView",
       "box_style": "",
       "children": [
        "IPY_MODEL_9fe23cce26d14d9bade50055e51bd8f0",
        "IPY_MODEL_7cbda771fd9f4151854f608eab27766c",
        "IPY_MODEL_d1d0c19355cd4b809302d08a924c6389"
       ],
       "layout": "IPY_MODEL_4c79eff6a5f94ba6afee98de299b8092"
      }
     },
     "d98daa3c7fe640478bfc0e5fa5569a1a": {
      "model_module": "@jupyter-widgets/base",
      "model_module_version": "1.2.0",
      "model_name": "LayoutModel",
      "state": {
       "_model_module": "@jupyter-widgets/base",
       "_model_module_version": "1.2.0",
       "_model_name": "LayoutModel",
       "_view_count": null,
       "_view_module": "@jupyter-widgets/base",
       "_view_module_version": "1.2.0",
       "_view_name": "LayoutView",
       "align_content": null,
       "align_items": null,
       "align_self": null,
       "border": null,
       "bottom": null,
       "display": null,
       "flex": null,
       "flex_flow": null,
       "grid_area": null,
       "grid_auto_columns": null,
       "grid_auto_flow": null,
       "grid_auto_rows": null,
       "grid_column": null,
       "grid_gap": null,
       "grid_row": null,
       "grid_template_areas": null,
       "grid_template_columns": null,
       "grid_template_rows": null,
       "height": null,
       "justify_content": null,
       "justify_items": null,
       "left": null,
       "margin": null,
       "max_height": null,
       "max_width": null,
       "min_height": null,
       "min_width": null,
       "object_fit": null,
       "object_position": null,
       "order": null,
       "overflow": null,
       "overflow_x": null,
       "overflow_y": null,
       "padding": null,
       "right": null,
       "top": null,
       "visibility": null,
       "width": null
      }
     },
     "dce60bfc483e4eeda2bec9eee2bdd57a": {
      "model_module": "@jupyter-widgets/controls",
      "model_module_version": "1.5.0",
      "model_name": "ProgressStyleModel",
      "state": {
       "_model_module": "@jupyter-widgets/controls",
       "_model_module_version": "1.5.0",
       "_model_name": "ProgressStyleModel",
       "_view_count": null,
       "_view_module": "@jupyter-widgets/base",
       "_view_module_version": "1.2.0",
       "_view_name": "StyleView",
       "bar_color": null,
       "description_width": ""
      }
     },
     "ea55405d3a984139adb69b2533401525": {
      "model_module": "@jupyter-widgets/base",
      "model_module_version": "1.2.0",
      "model_name": "LayoutModel",
      "state": {
       "_model_module": "@jupyter-widgets/base",
       "_model_module_version": "1.2.0",
       "_model_name": "LayoutModel",
       "_view_count": null,
       "_view_module": "@jupyter-widgets/base",
       "_view_module_version": "1.2.0",
       "_view_name": "LayoutView",
       "align_content": null,
       "align_items": null,
       "align_self": null,
       "border": null,
       "bottom": null,
       "display": null,
       "flex": null,
       "flex_flow": null,
       "grid_area": null,
       "grid_auto_columns": null,
       "grid_auto_flow": null,
       "grid_auto_rows": null,
       "grid_column": null,
       "grid_gap": null,
       "grid_row": null,
       "grid_template_areas": null,
       "grid_template_columns": null,
       "grid_template_rows": null,
       "height": null,
       "justify_content": null,
       "justify_items": null,
       "left": null,
       "margin": null,
       "max_height": null,
       "max_width": null,
       "min_height": null,
       "min_width": null,
       "object_fit": null,
       "object_position": null,
       "order": null,
       "overflow": null,
       "overflow_x": null,
       "overflow_y": null,
       "padding": null,
       "right": null,
       "top": null,
       "visibility": null,
       "width": null
      }
     },
     "ea7e7b23ac6844f3a2305e7340305335": {
      "model_module": "@jupyter-widgets/controls",
      "model_module_version": "1.5.0",
      "model_name": "HBoxModel",
      "state": {
       "_dom_classes": [],
       "_model_module": "@jupyter-widgets/controls",
       "_model_module_version": "1.5.0",
       "_model_name": "HBoxModel",
       "_view_count": null,
       "_view_module": "@jupyter-widgets/controls",
       "_view_module_version": "1.5.0",
       "_view_name": "HBoxView",
       "box_style": "",
       "children": [
        "IPY_MODEL_7f3fb0ada3de4c9d9a347fd1cc652abc",
        "IPY_MODEL_8e2e62a4c578466289b1d469e2ace786",
        "IPY_MODEL_7ee5b926deaa4bc0983cb49646fa4af9"
       ],
       "layout": "IPY_MODEL_993a7926cc4c4d2882ea9a522463675e"
      }
     },
     "ef337966f4b849848d1281ca6673f896": {
      "model_module": "@jupyter-widgets/base",
      "model_module_version": "1.2.0",
      "model_name": "LayoutModel",
      "state": {
       "_model_module": "@jupyter-widgets/base",
       "_model_module_version": "1.2.0",
       "_model_name": "LayoutModel",
       "_view_count": null,
       "_view_module": "@jupyter-widgets/base",
       "_view_module_version": "1.2.0",
       "_view_name": "LayoutView",
       "align_content": null,
       "align_items": null,
       "align_self": null,
       "border": null,
       "bottom": null,
       "display": null,
       "flex": null,
       "flex_flow": null,
       "grid_area": null,
       "grid_auto_columns": null,
       "grid_auto_flow": null,
       "grid_auto_rows": null,
       "grid_column": null,
       "grid_gap": null,
       "grid_row": null,
       "grid_template_areas": null,
       "grid_template_columns": null,
       "grid_template_rows": null,
       "height": null,
       "justify_content": null,
       "justify_items": null,
       "left": null,
       "margin": null,
       "max_height": null,
       "max_width": null,
       "min_height": null,
       "min_width": null,
       "object_fit": null,
       "object_position": null,
       "order": null,
       "overflow": null,
       "overflow_x": null,
       "overflow_y": null,
       "padding": null,
       "right": null,
       "top": null,
       "visibility": null,
       "width": null
      }
     },
     "f0874bb1e6b04a45ba81e35efe7494e6": {
      "model_module": "@jupyter-widgets/base",
      "model_module_version": "1.2.0",
      "model_name": "LayoutModel",
      "state": {
       "_model_module": "@jupyter-widgets/base",
       "_model_module_version": "1.2.0",
       "_model_name": "LayoutModel",
       "_view_count": null,
       "_view_module": "@jupyter-widgets/base",
       "_view_module_version": "1.2.0",
       "_view_name": "LayoutView",
       "align_content": null,
       "align_items": null,
       "align_self": null,
       "border": null,
       "bottom": null,
       "display": null,
       "flex": null,
       "flex_flow": null,
       "grid_area": null,
       "grid_auto_columns": null,
       "grid_auto_flow": null,
       "grid_auto_rows": null,
       "grid_column": null,
       "grid_gap": null,
       "grid_row": null,
       "grid_template_areas": null,
       "grid_template_columns": null,
       "grid_template_rows": null,
       "height": null,
       "justify_content": null,
       "justify_items": null,
       "left": null,
       "margin": null,
       "max_height": null,
       "max_width": null,
       "min_height": null,
       "min_width": null,
       "object_fit": null,
       "object_position": null,
       "order": null,
       "overflow": null,
       "overflow_x": null,
       "overflow_y": null,
       "padding": null,
       "right": null,
       "top": null,
       "visibility": null,
       "width": null
      }
     }
    },
    "version_major": 2,
    "version_minor": 0
   }
  }
 },
 "nbformat": 4,
 "nbformat_minor": 5
}

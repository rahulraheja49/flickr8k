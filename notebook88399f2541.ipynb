{
 "cells": [
  {
   "cell_type": "code",
   "execution_count": 1,
   "id": "bab76b53",
   "metadata": {
    "_cell_guid": "b1076dfc-b9ad-4769-8c92-a6c4dae69d19",
    "_uuid": "8f2839f25d086af736a60e9eeb907d3b93b6e0e5",
    "execution": {
     "iopub.execute_input": "2022-03-03T09:34:48.738972Z",
     "iopub.status.busy": "2022-03-03T09:34:48.737433Z",
     "iopub.status.idle": "2022-03-03T09:34:54.050020Z",
     "shell.execute_reply": "2022-03-03T09:34:54.049409Z",
     "shell.execute_reply.started": "2022-03-03T09:26:15.904886Z"
    },
    "papermill": {
     "duration": 5.343465,
     "end_time": "2022-03-03T09:34:54.050170",
     "exception": false,
     "start_time": "2022-03-03T09:34:48.706705",
     "status": "completed"
    },
    "tags": []
   },
   "outputs": [],
   "source": [
    "import os\n",
    "import pickle\n",
    "import numpy as np\n",
    "from tqdm.notebook import tqdm\n",
    "from tensorflow.keras.applications.vgg16 import VGG16, preprocess_input\n",
    "from tensorflow.keras.preprocessing.image import load_img, img_to_array\n",
    "from tensorflow.keras.preprocessing.text import Tokenizer\n",
    "from tensorflow.keras.preprocessing.sequence import pad_sequences\n",
    "from tensorflow.keras.models import Model\n",
    "from tensorflow.keras.utils import to_categorical, plot_model\n",
    "from tensorflow.keras.layers import Input, Dense, LSTM, Embedding, Dropout, add"
   ]
  },
  {
   "cell_type": "code",
   "execution_count": 2,
   "id": "6c320633",
   "metadata": {
    "execution": {
     "iopub.execute_input": "2022-03-03T09:34:54.101690Z",
     "iopub.status.busy": "2022-03-03T09:34:54.100108Z",
     "iopub.status.idle": "2022-03-03T09:34:54.102359Z",
     "shell.execute_reply": "2022-03-03T09:34:54.102757Z",
     "shell.execute_reply.started": "2022-03-03T09:26:16.082212Z"
    },
    "papermill": {
     "duration": 0.02809,
     "end_time": "2022-03-03T09:34:54.102893",
     "exception": false,
     "start_time": "2022-03-03T09:34:54.074803",
     "status": "completed"
    },
    "tags": []
   },
   "outputs": [],
   "source": [
    "BASE_DIR = '/kaggle/input/flickr8k'\n",
    "WORKING_DIR = '/kaggle/working'"
   ]
  },
  {
   "cell_type": "code",
   "execution_count": 3,
   "id": "368fc711",
   "metadata": {
    "execution": {
     "iopub.execute_input": "2022-03-03T09:34:54.154251Z",
     "iopub.status.busy": "2022-03-03T09:34:54.153572Z",
     "iopub.status.idle": "2022-03-03T09:34:59.915383Z",
     "shell.execute_reply": "2022-03-03T09:34:59.914912Z",
     "shell.execute_reply.started": "2022-03-03T09:26:16.251889Z"
    },
    "papermill": {
     "duration": 5.790363,
     "end_time": "2022-03-03T09:34:59.915517",
     "exception": false,
     "start_time": "2022-03-03T09:34:54.125154",
     "status": "completed"
    },
    "tags": []
   },
   "outputs": [
    {
     "name": "stderr",
     "output_type": "stream",
     "text": [
      "2022-03-03 09:34:54.233977: I tensorflow/stream_executor/cuda/cuda_gpu_executor.cc:937] successful NUMA node read from SysFS had negative value (-1), but there must be at least one NUMA node, so returning NUMA node zero\n",
      "2022-03-03 09:34:54.345643: I tensorflow/stream_executor/cuda/cuda_gpu_executor.cc:937] successful NUMA node read from SysFS had negative value (-1), but there must be at least one NUMA node, so returning NUMA node zero\n",
      "2022-03-03 09:34:54.346364: I tensorflow/stream_executor/cuda/cuda_gpu_executor.cc:937] successful NUMA node read from SysFS had negative value (-1), but there must be at least one NUMA node, so returning NUMA node zero\n",
      "2022-03-03 09:34:54.347409: I tensorflow/core/platform/cpu_feature_guard.cc:142] This TensorFlow binary is optimized with oneAPI Deep Neural Network Library (oneDNN) to use the following CPU instructions in performance-critical operations:  AVX2 AVX512F FMA\n",
      "To enable them in other operations, rebuild TensorFlow with the appropriate compiler flags.\n",
      "2022-03-03 09:34:54.348056: I tensorflow/stream_executor/cuda/cuda_gpu_executor.cc:937] successful NUMA node read from SysFS had negative value (-1), but there must be at least one NUMA node, so returning NUMA node zero\n",
      "2022-03-03 09:34:54.348749: I tensorflow/stream_executor/cuda/cuda_gpu_executor.cc:937] successful NUMA node read from SysFS had negative value (-1), but there must be at least one NUMA node, so returning NUMA node zero\n",
      "2022-03-03 09:34:54.349517: I tensorflow/stream_executor/cuda/cuda_gpu_executor.cc:937] successful NUMA node read from SysFS had negative value (-1), but there must be at least one NUMA node, so returning NUMA node zero\n",
      "2022-03-03 09:34:56.123280: I tensorflow/stream_executor/cuda/cuda_gpu_executor.cc:937] successful NUMA node read from SysFS had negative value (-1), but there must be at least one NUMA node, so returning NUMA node zero\n",
      "2022-03-03 09:34:56.124027: I tensorflow/stream_executor/cuda/cuda_gpu_executor.cc:937] successful NUMA node read from SysFS had negative value (-1), but there must be at least one NUMA node, so returning NUMA node zero\n",
      "2022-03-03 09:34:56.124733: I tensorflow/stream_executor/cuda/cuda_gpu_executor.cc:937] successful NUMA node read from SysFS had negative value (-1), but there must be at least one NUMA node, so returning NUMA node zero\n",
      "2022-03-03 09:34:56.125328: I tensorflow/core/common_runtime/gpu/gpu_device.cc:1510] Created device /job:localhost/replica:0/task:0/device:GPU:0 with 15403 MB memory:  -> device: 0, name: Tesla P100-PCIE-16GB, pci bus id: 0000:00:04.0, compute capability: 6.0\n"
     ]
    },
    {
     "name": "stdout",
     "output_type": "stream",
     "text": [
      "Downloading data from https://storage.googleapis.com/tensorflow/keras-applications/vgg16/vgg16_weights_tf_dim_ordering_tf_kernels.h5\n",
      "553467904/553467096 [==============================] - 2s 0us/step\n",
      "553476096/553467096 [==============================] - 2s 0us/step\n",
      "Model: \"model\"\n",
      "_________________________________________________________________\n",
      "Layer (type)                 Output Shape              Param #   \n",
      "=================================================================\n",
      "input_1 (InputLayer)         [(None, 224, 224, 3)]     0         \n",
      "_________________________________________________________________\n",
      "block1_conv1 (Conv2D)        (None, 224, 224, 64)      1792      \n",
      "_________________________________________________________________\n",
      "block1_conv2 (Conv2D)        (None, 224, 224, 64)      36928     \n",
      "_________________________________________________________________\n",
      "block1_pool (MaxPooling2D)   (None, 112, 112, 64)      0         \n",
      "_________________________________________________________________\n",
      "block2_conv1 (Conv2D)        (None, 112, 112, 128)     73856     \n",
      "_________________________________________________________________\n",
      "block2_conv2 (Conv2D)        (None, 112, 112, 128)     147584    \n",
      "_________________________________________________________________\n",
      "block2_pool (MaxPooling2D)   (None, 56, 56, 128)       0         \n",
      "_________________________________________________________________\n",
      "block3_conv1 (Conv2D)        (None, 56, 56, 256)       295168    \n",
      "_________________________________________________________________\n",
      "block3_conv2 (Conv2D)        (None, 56, 56, 256)       590080    \n",
      "_________________________________________________________________\n",
      "block3_conv3 (Conv2D)        (None, 56, 56, 256)       590080    \n",
      "_________________________________________________________________\n",
      "block3_pool (MaxPooling2D)   (None, 28, 28, 256)       0         \n",
      "_________________________________________________________________\n",
      "block4_conv1 (Conv2D)        (None, 28, 28, 512)       1180160   \n",
      "_________________________________________________________________\n",
      "block4_conv2 (Conv2D)        (None, 28, 28, 512)       2359808   \n",
      "_________________________________________________________________\n",
      "block4_conv3 (Conv2D)        (None, 28, 28, 512)       2359808   \n",
      "_________________________________________________________________\n",
      "block4_pool (MaxPooling2D)   (None, 14, 14, 512)       0         \n",
      "_________________________________________________________________\n",
      "block5_conv1 (Conv2D)        (None, 14, 14, 512)       2359808   \n",
      "_________________________________________________________________\n",
      "block5_conv2 (Conv2D)        (None, 14, 14, 512)       2359808   \n",
      "_________________________________________________________________\n",
      "block5_conv3 (Conv2D)        (None, 14, 14, 512)       2359808   \n",
      "_________________________________________________________________\n",
      "block5_pool (MaxPooling2D)   (None, 7, 7, 512)         0         \n",
      "_________________________________________________________________\n",
      "flatten (Flatten)            (None, 25088)             0         \n",
      "_________________________________________________________________\n",
      "fc1 (Dense)                  (None, 4096)              102764544 \n",
      "_________________________________________________________________\n",
      "fc2 (Dense)                  (None, 4096)              16781312  \n",
      "=================================================================\n",
      "Total params: 134,260,544\n",
      "Trainable params: 134,260,544\n",
      "Non-trainable params: 0\n",
      "_________________________________________________________________\n",
      "None\n"
     ]
    }
   ],
   "source": [
    "model = VGG16()\n",
    "model = Model(inputs=model.inputs, outputs=model.layers[-2].output)\n",
    "print(model.summary())"
   ]
  },
  {
   "cell_type": "code",
   "execution_count": 4,
   "id": "24d0b1c9",
   "metadata": {
    "execution": {
     "iopub.execute_input": "2022-03-03T09:35:00.005187Z",
     "iopub.status.busy": "2022-03-03T09:35:00.004632Z",
     "iopub.status.idle": "2022-03-03T09:42:54.378605Z",
     "shell.execute_reply": "2022-03-03T09:42:54.377812Z"
    },
    "papermill": {
     "duration": 474.421921,
     "end_time": "2022-03-03T09:42:54.378744",
     "exception": false,
     "start_time": "2022-03-03T09:34:59.956823",
     "status": "completed"
    },
    "tags": []
   },
   "outputs": [
    {
     "data": {
      "application/vnd.jupyter.widget-view+json": {
       "model_id": "1934df36155e4bbeb03b949252888202",
       "version_major": 2,
       "version_minor": 0
      },
      "text/plain": [
       "  0%|          | 0/8091 [00:00<?, ?it/s]"
      ]
     },
     "metadata": {},
     "output_type": "display_data"
    },
    {
     "name": "stderr",
     "output_type": "stream",
     "text": [
      "2022-03-03 09:35:00.323607: I tensorflow/compiler/mlir/mlir_graph_optimization_pass.cc:185] None of the MLIR Optimization Passes are enabled (registered 2)\n",
      "2022-03-03 09:35:01.233791: I tensorflow/stream_executor/cuda/cuda_dnn.cc:369] Loaded cuDNN version 8005\n"
     ]
    }
   ],
   "source": [
    "features = {}\n",
    "directory = os.path.join(BASE_DIR, 'Images')\n",
    "\n",
    "for img_name in tqdm(os.listdir(directory)):\n",
    "    # load image from file\n",
    "    img_path = directory + '/' + img_name\n",
    "    image = load_img(img_path, target_size=(224, 224))\n",
    "    # convert image pixels to numpy array\n",
    "    image = img_to_array(image)\n",
    "    # reshape data for model\n",
    "    image = image.reshape((1, image.shape[0], image.shape[1], image.shape[2]))\n",
    "    # preprocess image for vgg\n",
    "    image = preprocess_input(image)\n",
    "    # extract features\n",
    "    feature = model.predict(image, verbose=0)\n",
    "    # get image id\n",
    "    image_id = img_name.split('.')[0]\n",
    "    # store feature\n",
    "    features[image_id] = feature"
   ]
  },
  {
   "cell_type": "code",
   "execution_count": 5,
   "id": "d59b40e8",
   "metadata": {
    "execution": {
     "iopub.execute_input": "2022-03-03T09:42:54.531279Z",
     "iopub.status.busy": "2022-03-03T09:42:54.530339Z",
     "iopub.status.idle": "2022-03-03T09:42:54.783684Z",
     "shell.execute_reply": "2022-03-03T09:42:54.783161Z"
    },
    "papermill": {
     "duration": 0.363714,
     "end_time": "2022-03-03T09:42:54.783819",
     "exception": false,
     "start_time": "2022-03-03T09:42:54.420105",
     "status": "completed"
    },
    "tags": []
   },
   "outputs": [],
   "source": [
    "pickle.dump(features, open(os.path.join(WORKING_DIR, 'features.pkl'), 'wb'))"
   ]
  },
  {
   "cell_type": "code",
   "execution_count": 6,
   "id": "d7da701b",
   "metadata": {
    "execution": {
     "iopub.execute_input": "2022-03-03T09:42:54.871772Z",
     "iopub.status.busy": "2022-03-03T09:42:54.870857Z",
     "iopub.status.idle": "2022-03-03T09:42:55.031416Z",
     "shell.execute_reply": "2022-03-03T09:42:55.030750Z"
    },
    "papermill": {
     "duration": 0.20639,
     "end_time": "2022-03-03T09:42:55.031588",
     "exception": false,
     "start_time": "2022-03-03T09:42:54.825198",
     "status": "completed"
    },
    "tags": []
   },
   "outputs": [],
   "source": [
    "with open(os.path.join(WORKING_DIR, 'features.pkl'), 'rb') as f:\n",
    "    features = pickle.load(f)"
   ]
  },
  {
   "cell_type": "markdown",
   "id": "1c1a3028",
   "metadata": {
    "papermill": {
     "duration": 0.043721,
     "end_time": "2022-03-03T09:42:55.121360",
     "exception": false,
     "start_time": "2022-03-03T09:42:55.077639",
     "status": "completed"
    },
    "tags": []
   },
   "source": [
    "# Preprocessing"
   ]
  },
  {
   "cell_type": "code",
   "execution_count": 7,
   "id": "b56f8b3e",
   "metadata": {
    "execution": {
     "iopub.execute_input": "2022-03-03T09:42:55.214091Z",
     "iopub.status.busy": "2022-03-03T09:42:55.213376Z",
     "iopub.status.idle": "2022-03-03T09:42:55.297152Z",
     "shell.execute_reply": "2022-03-03T09:42:55.296377Z"
    },
    "papermill": {
     "duration": 0.132471,
     "end_time": "2022-03-03T09:42:55.297382",
     "exception": false,
     "start_time": "2022-03-03T09:42:55.164911",
     "status": "completed"
    },
    "tags": []
   },
   "outputs": [],
   "source": [
    "with open(os.path.join(BASE_DIR, 'captions.txt'), 'r') as f:\n",
    "    next(f)\n",
    "    captions_doc = f.read()"
   ]
  },
  {
   "cell_type": "code",
   "execution_count": 8,
   "id": "563e3b74",
   "metadata": {
    "execution": {
     "iopub.execute_input": "2022-03-03T09:42:55.483131Z",
     "iopub.status.busy": "2022-03-03T09:42:55.482341Z",
     "iopub.status.idle": "2022-03-03T09:42:55.959936Z",
     "shell.execute_reply": "2022-03-03T09:42:55.958083Z"
    },
    "papermill": {
     "duration": 0.585565,
     "end_time": "2022-03-03T09:42:55.960071",
     "exception": false,
     "start_time": "2022-03-03T09:42:55.374506",
     "status": "completed"
    },
    "tags": []
   },
   "outputs": [
    {
     "data": {
      "application/vnd.jupyter.widget-view+json": {
       "model_id": "846c26abf22b42c4ab84f2015a3dca18",
       "version_major": 2,
       "version_minor": 0
      },
      "text/plain": [
       "  0%|          | 0/40456 [00:00<?, ?it/s]"
      ]
     },
     "metadata": {},
     "output_type": "display_data"
    }
   ],
   "source": [
    "mapping = {}\n",
    "for line in tqdm(captions_doc.split('\\n')):\n",
    "    tokens = line.split(',')\n",
    "    if len(line) <2:\n",
    "        continue\n",
    "    image_id, caption = tokens[0], tokens[1:]\n",
    "    image_id = image_id.split('.')[0]\n",
    "    caption = ' '.join(caption)\n",
    "    if image_id not in mapping:\n",
    "        mapping[image_id] = []\n",
    "    mapping[image_id].append(caption)"
   ]
  },
  {
   "cell_type": "code",
   "execution_count": 9,
   "id": "ca695f61",
   "metadata": {
    "execution": {
     "iopub.execute_input": "2022-03-03T09:42:56.056584Z",
     "iopub.status.busy": "2022-03-03T09:42:56.055839Z",
     "iopub.status.idle": "2022-03-03T09:42:56.058693Z",
     "shell.execute_reply": "2022-03-03T09:42:56.059099Z"
    },
    "papermill": {
     "duration": 0.053322,
     "end_time": "2022-03-03T09:42:56.059246",
     "exception": false,
     "start_time": "2022-03-03T09:42:56.005924",
     "status": "completed"
    },
    "tags": []
   },
   "outputs": [
    {
     "data": {
      "text/plain": [
       "8091"
      ]
     },
     "execution_count": 9,
     "metadata": {},
     "output_type": "execute_result"
    }
   ],
   "source": [
    "len(mapping)"
   ]
  },
  {
   "cell_type": "code",
   "execution_count": 10,
   "id": "f4fd2c89",
   "metadata": {
    "execution": {
     "iopub.execute_input": "2022-03-03T09:42:56.152838Z",
     "iopub.status.busy": "2022-03-03T09:42:56.151975Z",
     "iopub.status.idle": "2022-03-03T09:42:56.153930Z",
     "shell.execute_reply": "2022-03-03T09:42:56.154383Z"
    },
    "papermill": {
     "duration": 0.051405,
     "end_time": "2022-03-03T09:42:56.154519",
     "exception": false,
     "start_time": "2022-03-03T09:42:56.103114",
     "status": "completed"
    },
    "tags": []
   },
   "outputs": [],
   "source": [
    "def clean(mapping):\n",
    "    for key, captions in mapping.items():\n",
    "        for i in range(len(captions)):\n",
    "            # take one caption at a time\n",
    "            caption = captions[i]\n",
    "            # preprocessing steps\n",
    "            # convert to lowercase\n",
    "            caption = caption.lower()\n",
    "            # remove digits, special chars, etc.\n",
    "            caption = caption.replace('[^A-Za-z]', '')\n",
    "            # remove additional spaces\n",
    "            caption = caption.replace('\\s+', ' ')\n",
    "            # add start and end tags to caption\n",
    "            caption = '<start> ' + ' '.join([word for word in caption.split() if len(word)>1]) + ' <end>'\n",
    "            captions[i] = caption"
   ]
  },
  {
   "cell_type": "code",
   "execution_count": 11,
   "id": "0581fc9b",
   "metadata": {
    "execution": {
     "iopub.execute_input": "2022-03-03T09:42:56.246452Z",
     "iopub.status.busy": "2022-03-03T09:42:56.245696Z",
     "iopub.status.idle": "2022-03-03T09:42:56.248541Z",
     "shell.execute_reply": "2022-03-03T09:42:56.248978Z"
    },
    "papermill": {
     "duration": 0.051119,
     "end_time": "2022-03-03T09:42:56.249106",
     "exception": false,
     "start_time": "2022-03-03T09:42:56.197987",
     "status": "completed"
    },
    "tags": []
   },
   "outputs": [
    {
     "data": {
      "text/plain": [
       "['A child in a pink dress is climbing up a set of stairs in an entry way .',\n",
       " 'A girl going into a wooden building .',\n",
       " 'A little girl climbing into a wooden playhouse .',\n",
       " 'A little girl climbing the stairs to her playhouse .',\n",
       " 'A little girl in a pink dress going into a wooden cabin .']"
      ]
     },
     "execution_count": 11,
     "metadata": {},
     "output_type": "execute_result"
    }
   ],
   "source": [
    "# before preprocess of text\n",
    "mapping['1000268201_693b08cb0e']"
   ]
  },
  {
   "cell_type": "code",
   "execution_count": 12,
   "id": "8bb8c6d3",
   "metadata": {
    "execution": {
     "iopub.execute_input": "2022-03-03T09:42:56.370041Z",
     "iopub.status.busy": "2022-03-03T09:42:56.359745Z",
     "iopub.status.idle": "2022-03-03T09:42:56.476212Z",
     "shell.execute_reply": "2022-03-03T09:42:56.475756Z"
    },
    "papermill": {
     "duration": 0.182731,
     "end_time": "2022-03-03T09:42:56.476326",
     "exception": false,
     "start_time": "2022-03-03T09:42:56.293595",
     "status": "completed"
    },
    "tags": []
   },
   "outputs": [],
   "source": [
    "# preprocess the text\n",
    "clean(mapping)"
   ]
  },
  {
   "cell_type": "code",
   "execution_count": 13,
   "id": "5561b8cf",
   "metadata": {
    "execution": {
     "iopub.execute_input": "2022-03-03T09:42:56.572410Z",
     "iopub.status.busy": "2022-03-03T09:42:56.569756Z",
     "iopub.status.idle": "2022-03-03T09:42:56.577372Z",
     "shell.execute_reply": "2022-03-03T09:42:56.576925Z"
    },
    "papermill": {
     "duration": 0.054644,
     "end_time": "2022-03-03T09:42:56.577491",
     "exception": false,
     "start_time": "2022-03-03T09:42:56.522847",
     "status": "completed"
    },
    "tags": []
   },
   "outputs": [
    {
     "data": {
      "text/plain": [
       "['<start> child in pink dress is climbing up set of stairs in an entry way <end>',\n",
       " '<start> girl going into wooden building <end>',\n",
       " '<start> little girl climbing into wooden playhouse <end>',\n",
       " '<start> little girl climbing the stairs to her playhouse <end>',\n",
       " '<start> little girl in pink dress going into wooden cabin <end>']"
      ]
     },
     "execution_count": 13,
     "metadata": {},
     "output_type": "execute_result"
    }
   ],
   "source": [
    "# after preprocess of text\n",
    "mapping['1000268201_693b08cb0e']"
   ]
  },
  {
   "cell_type": "code",
   "execution_count": 14,
   "id": "2579c899",
   "metadata": {
    "execution": {
     "iopub.execute_input": "2022-03-03T09:42:56.689509Z",
     "iopub.status.busy": "2022-03-03T09:42:56.687833Z",
     "iopub.status.idle": "2022-03-03T09:42:56.690105Z",
     "shell.execute_reply": "2022-03-03T09:42:56.690562Z"
    },
    "papermill": {
     "duration": 0.065301,
     "end_time": "2022-03-03T09:42:56.690700",
     "exception": false,
     "start_time": "2022-03-03T09:42:56.625399",
     "status": "completed"
    },
    "tags": []
   },
   "outputs": [],
   "source": [
    "all_captions = []\n",
    "for key in mapping:\n",
    "    for caption in mapping[key]:\n",
    "        all_captions.append(caption)"
   ]
  },
  {
   "cell_type": "code",
   "execution_count": 15,
   "id": "68ca3374",
   "metadata": {
    "execution": {
     "iopub.execute_input": "2022-03-03T09:42:56.785912Z",
     "iopub.status.busy": "2022-03-03T09:42:56.785288Z",
     "iopub.status.idle": "2022-03-03T09:42:56.787902Z",
     "shell.execute_reply": "2022-03-03T09:42:56.788310Z"
    },
    "papermill": {
     "duration": 0.052538,
     "end_time": "2022-03-03T09:42:56.788442",
     "exception": false,
     "start_time": "2022-03-03T09:42:56.735904",
     "status": "completed"
    },
    "tags": []
   },
   "outputs": [
    {
     "data": {
      "text/plain": [
       "40455"
      ]
     },
     "execution_count": 15,
     "metadata": {},
     "output_type": "execute_result"
    }
   ],
   "source": [
    "len(all_captions)"
   ]
  },
  {
   "cell_type": "code",
   "execution_count": 16,
   "id": "b17a83c7",
   "metadata": {
    "execution": {
     "iopub.execute_input": "2022-03-03T09:42:56.885083Z",
     "iopub.status.busy": "2022-03-03T09:42:56.884490Z",
     "iopub.status.idle": "2022-03-03T09:42:56.887183Z",
     "shell.execute_reply": "2022-03-03T09:42:56.887621Z"
    },
    "papermill": {
     "duration": 0.053658,
     "end_time": "2022-03-03T09:42:56.887750",
     "exception": false,
     "start_time": "2022-03-03T09:42:56.834092",
     "status": "completed"
    },
    "tags": []
   },
   "outputs": [
    {
     "data": {
      "text/plain": [
       "['<start> child in pink dress is climbing up set of stairs in an entry way <end>',\n",
       " '<start> girl going into wooden building <end>',\n",
       " '<start> little girl climbing into wooden playhouse <end>',\n",
       " '<start> little girl climbing the stairs to her playhouse <end>',\n",
       " '<start> little girl in pink dress going into wooden cabin <end>',\n",
       " '<start> black dog and spotted dog are fighting <end>',\n",
       " '<start> black dog and tri-colored dog playing with each other on the road <end>',\n",
       " '<start> black dog and white dog with brown spots are staring at each other in the street <end>',\n",
       " '<start> two dogs of different breeds looking at each other on the road <end>',\n",
       " '<start> two dogs on pavement moving toward each other <end>']"
      ]
     },
     "execution_count": 16,
     "metadata": {},
     "output_type": "execute_result"
    }
   ],
   "source": [
    "all_captions[:10]"
   ]
  },
  {
   "cell_type": "code",
   "execution_count": 17,
   "id": "5acd6137",
   "metadata": {
    "execution": {
     "iopub.execute_input": "2022-03-03T09:42:57.028456Z",
     "iopub.status.busy": "2022-03-03T09:42:57.013061Z",
     "iopub.status.idle": "2022-03-03T09:42:57.592361Z",
     "shell.execute_reply": "2022-03-03T09:42:57.591818Z"
    },
    "papermill": {
     "duration": 0.658932,
     "end_time": "2022-03-03T09:42:57.592506",
     "exception": false,
     "start_time": "2022-03-03T09:42:56.933574",
     "status": "completed"
    },
    "tags": []
   },
   "outputs": [],
   "source": [
    "# tokenize the text\n",
    "tokenizer = Tokenizer()\n",
    "tokenizer.fit_on_texts(all_captions)\n",
    "vocab_size = len(tokenizer.word_index) + 1"
   ]
  },
  {
   "cell_type": "code",
   "execution_count": 18,
   "id": "871b7617",
   "metadata": {
    "execution": {
     "iopub.execute_input": "2022-03-03T09:42:57.690657Z",
     "iopub.status.busy": "2022-03-03T09:42:57.690031Z",
     "iopub.status.idle": "2022-03-03T09:42:57.692770Z",
     "shell.execute_reply": "2022-03-03T09:42:57.693210Z"
    },
    "papermill": {
     "duration": 0.054818,
     "end_time": "2022-03-03T09:42:57.693354",
     "exception": false,
     "start_time": "2022-03-03T09:42:57.638536",
     "status": "completed"
    },
    "tags": []
   },
   "outputs": [
    {
     "data": {
      "text/plain": [
       "8483"
      ]
     },
     "execution_count": 18,
     "metadata": {},
     "output_type": "execute_result"
    }
   ],
   "source": [
    "vocab_size"
   ]
  },
  {
   "cell_type": "code",
   "execution_count": 19,
   "id": "f1f67808",
   "metadata": {
    "execution": {
     "iopub.execute_input": "2022-03-03T09:42:57.817931Z",
     "iopub.status.busy": "2022-03-03T09:42:57.817236Z",
     "iopub.status.idle": "2022-03-03T09:42:57.819958Z",
     "shell.execute_reply": "2022-03-03T09:42:57.820394Z"
    },
    "papermill": {
     "duration": 0.081308,
     "end_time": "2022-03-03T09:42:57.820553",
     "exception": false,
     "start_time": "2022-03-03T09:42:57.739245",
     "status": "completed"
    },
    "tags": []
   },
   "outputs": [
    {
     "data": {
      "text/plain": [
       "35"
      ]
     },
     "execution_count": 19,
     "metadata": {},
     "output_type": "execute_result"
    }
   ],
   "source": [
    "# get max length of caption available\n",
    "max_length = max(len(caption.split()) for caption in all_captions)\n",
    "max_length"
   ]
  },
  {
   "cell_type": "markdown",
   "id": "576966c5",
   "metadata": {
    "papermill": {
     "duration": 0.045928,
     "end_time": "2022-03-03T09:42:57.912503",
     "exception": false,
     "start_time": "2022-03-03T09:42:57.866575",
     "status": "completed"
    },
    "tags": []
   },
   "source": [
    "# Train Test Split"
   ]
  },
  {
   "cell_type": "code",
   "execution_count": 20,
   "id": "487e11c2",
   "metadata": {
    "execution": {
     "iopub.execute_input": "2022-03-03T09:42:58.011409Z",
     "iopub.status.busy": "2022-03-03T09:42:58.010727Z",
     "iopub.status.idle": "2022-03-03T09:42:58.013485Z",
     "shell.execute_reply": "2022-03-03T09:42:58.013029Z"
    },
    "papermill": {
     "duration": 0.055074,
     "end_time": "2022-03-03T09:42:58.013598",
     "exception": false,
     "start_time": "2022-03-03T09:42:57.958524",
     "status": "completed"
    },
    "tags": []
   },
   "outputs": [],
   "source": [
    "image_ids = list(mapping.keys())\n",
    "split = int(len(image_ids) * 0.90)\n",
    "train = image_ids[:split]\n",
    "test = image_ids[split:]"
   ]
  },
  {
   "cell_type": "code",
   "execution_count": 21,
   "id": "4dd1d1f7",
   "metadata": {
    "execution": {
     "iopub.execute_input": "2022-03-03T09:42:58.115629Z",
     "iopub.status.busy": "2022-03-03T09:42:58.114079Z",
     "iopub.status.idle": "2022-03-03T09:42:58.116216Z",
     "shell.execute_reply": "2022-03-03T09:42:58.116621Z"
    },
    "papermill": {
     "duration": 0.057158,
     "end_time": "2022-03-03T09:42:58.116737",
     "exception": false,
     "start_time": "2022-03-03T09:42:58.059579",
     "status": "completed"
    },
    "tags": []
   },
   "outputs": [],
   "source": [
    "# create data generator to get data in batch (avoids session crash)\n",
    "def data_generator(data_keys, mapping, features, tokenizer, max_length, vocab_size, batch_size):\n",
    "    # loop over images\n",
    "    X1, X2, y = list(), list(), list()\n",
    "    n = 0\n",
    "    while 1:\n",
    "        for key in data_keys:\n",
    "            n += 1\n",
    "            captions = mapping[key]\n",
    "            for caption in captions:\n",
    "                # encode the sequence\n",
    "                seq = tokenizer.texts_to_sequences([caption])[0]\n",
    "                # split sequence into x, y parts\n",
    "                for i in range(1, len(seq)):\n",
    "                    in_seq, out_seq = seq[:i], seq[i]\n",
    "                    # pad input sequence\n",
    "                    in_seq = pad_sequences([in_seq], max_length)[0]\n",
    "                    # encode output sequence\n",
    "                    out_seq = to_categorical([out_seq], num_classes=vocab_size)[0]\n",
    "                    \n",
    "                    # store the sequences\n",
    "                    X1.append(features[key][0])\n",
    "                    X2.append(in_seq)\n",
    "                    y.append(out_seq)\n",
    "            if n == batch_size:\n",
    "                X1, X2, y = np.array(X1), np.array(X2), np.array(y)\n",
    "                yield [X1, X2], y\n",
    "                X1, X2, y = list(), list(), list()\n",
    "                n=0"
   ]
  },
  {
   "cell_type": "markdown",
   "id": "ddb457bf",
   "metadata": {
    "papermill": {
     "duration": 0.04609,
     "end_time": "2022-03-03T09:42:58.208756",
     "exception": false,
     "start_time": "2022-03-03T09:42:58.162666",
     "status": "completed"
    },
    "tags": []
   },
   "source": [
    "# Model Creation"
   ]
  },
  {
   "cell_type": "code",
   "execution_count": null,
   "id": "fbd2068a",
   "metadata": {
    "papermill": {
     "duration": 0.046556,
     "end_time": "2022-03-03T09:42:58.301468",
     "exception": false,
     "start_time": "2022-03-03T09:42:58.254912",
     "status": "completed"
    },
    "tags": []
   },
   "outputs": [],
   "source": []
  },
  {
   "cell_type": "code",
   "execution_count": null,
   "id": "6cfba2d2",
   "metadata": {
    "papermill": {
     "duration": 0.046031,
     "end_time": "2022-03-03T09:42:58.393438",
     "exception": false,
     "start_time": "2022-03-03T09:42:58.347407",
     "status": "completed"
    },
    "tags": []
   },
   "outputs": [],
   "source": []
  },
  {
   "cell_type": "code",
   "execution_count": null,
   "id": "f79b3048",
   "metadata": {
    "papermill": {
     "duration": 0.046144,
     "end_time": "2022-03-03T09:42:58.485722",
     "exception": false,
     "start_time": "2022-03-03T09:42:58.439578",
     "status": "completed"
    },
    "tags": []
   },
   "outputs": [],
   "source": []
  },
  {
   "cell_type": "code",
   "execution_count": null,
   "id": "d86ae1e9",
   "metadata": {
    "papermill": {
     "duration": 0.047048,
     "end_time": "2022-03-03T09:42:58.579988",
     "exception": false,
     "start_time": "2022-03-03T09:42:58.532940",
     "status": "completed"
    },
    "tags": []
   },
   "outputs": [],
   "source": []
  },
  {
   "cell_type": "code",
   "execution_count": null,
   "id": "c74b493b",
   "metadata": {
    "papermill": {
     "duration": 0.046035,
     "end_time": "2022-03-03T09:42:58.672713",
     "exception": false,
     "start_time": "2022-03-03T09:42:58.626678",
     "status": "completed"
    },
    "tags": []
   },
   "outputs": [],
   "source": []
  },
  {
   "cell_type": "code",
   "execution_count": null,
   "id": "d471569e",
   "metadata": {
    "papermill": {
     "duration": 0.046291,
     "end_time": "2022-03-03T09:42:58.765595",
     "exception": false,
     "start_time": "2022-03-03T09:42:58.719304",
     "status": "completed"
    },
    "tags": []
   },
   "outputs": [],
   "source": []
  },
  {
   "cell_type": "code",
   "execution_count": null,
   "id": "3bc342da",
   "metadata": {
    "papermill": {
     "duration": 0.046638,
     "end_time": "2022-03-03T09:42:58.860268",
     "exception": false,
     "start_time": "2022-03-03T09:42:58.813630",
     "status": "completed"
    },
    "tags": []
   },
   "outputs": [],
   "source": []
  },
  {
   "cell_type": "code",
   "execution_count": null,
   "id": "2a52f416",
   "metadata": {
    "papermill": {
     "duration": 0.045883,
     "end_time": "2022-03-03T09:42:58.952350",
     "exception": false,
     "start_time": "2022-03-03T09:42:58.906467",
     "status": "completed"
    },
    "tags": []
   },
   "outputs": [],
   "source": []
  }
 ],
 "metadata": {
  "kernelspec": {
   "display_name": "Python 3",
   "language": "python",
   "name": "python3"
  },
  "language_info": {
   "codemirror_mode": {
    "name": "ipython",
    "version": 3
   },
   "file_extension": ".py",
   "mimetype": "text/x-python",
   "name": "python",
   "nbconvert_exporter": "python",
   "pygments_lexer": "ipython3",
   "version": "3.7.12"
  },
  "papermill": {
   "default_parameters": {},
   "duration": 501.52945,
   "end_time": "2022-03-03T09:43:02.300679",
   "environment_variables": {},
   "exception": null,
   "input_path": "__notebook__.ipynb",
   "output_path": "__notebook__.ipynb",
   "parameters": {},
   "start_time": "2022-03-03T09:34:40.771229",
   "version": "2.3.3"
  },
  "widgets": {
   "application/vnd.jupyter.widget-state+json": {
    "state": {
     "03567703dbeb445984a65f19767ed158": {
      "model_module": "@jupyter-widgets/base",
      "model_module_version": "1.2.0",
      "model_name": "LayoutModel",
      "state": {
       "_model_module": "@jupyter-widgets/base",
       "_model_module_version": "1.2.0",
       "_model_name": "LayoutModel",
       "_view_count": null,
       "_view_module": "@jupyter-widgets/base",
       "_view_module_version": "1.2.0",
       "_view_name": "LayoutView",
       "align_content": null,
       "align_items": null,
       "align_self": null,
       "border": null,
       "bottom": null,
       "display": null,
       "flex": null,
       "flex_flow": null,
       "grid_area": null,
       "grid_auto_columns": null,
       "grid_auto_flow": null,
       "grid_auto_rows": null,
       "grid_column": null,
       "grid_gap": null,
       "grid_row": null,
       "grid_template_areas": null,
       "grid_template_columns": null,
       "grid_template_rows": null,
       "height": null,
       "justify_content": null,
       "justify_items": null,
       "left": null,
       "margin": null,
       "max_height": null,
       "max_width": null,
       "min_height": null,
       "min_width": null,
       "object_fit": null,
       "object_position": null,
       "order": null,
       "overflow": null,
       "overflow_x": null,
       "overflow_y": null,
       "padding": null,
       "right": null,
       "top": null,
       "visibility": null,
       "width": null
      }
     },
     "04ca6750face41ee9287fcb69b169151": {
      "model_module": "@jupyter-widgets/controls",
      "model_module_version": "1.5.0",
      "model_name": "HTMLModel",
      "state": {
       "_dom_classes": [],
       "_model_module": "@jupyter-widgets/controls",
       "_model_module_version": "1.5.0",
       "_model_name": "HTMLModel",
       "_view_count": null,
       "_view_module": "@jupyter-widgets/controls",
       "_view_module_version": "1.5.0",
       "_view_name": "HTMLView",
       "description": "",
       "description_tooltip": null,
       "layout": "IPY_MODEL_390990a419dc479eb19e4bcd51827203",
       "placeholder": "​",
       "style": "IPY_MODEL_4482845175d64d96b9464c2bbf23c3a9",
       "value": " 8091/8091 [07:54&lt;00:00, 18.24it/s]"
      }
     },
     "0e0b501429ac440fb97af71dc43516b6": {
      "model_module": "@jupyter-widgets/controls",
      "model_module_version": "1.5.0",
      "model_name": "DescriptionStyleModel",
      "state": {
       "_model_module": "@jupyter-widgets/controls",
       "_model_module_version": "1.5.0",
       "_model_name": "DescriptionStyleModel",
       "_view_count": null,
       "_view_module": "@jupyter-widgets/base",
       "_view_module_version": "1.2.0",
       "_view_name": "StyleView",
       "description_width": ""
      }
     },
     "1934df36155e4bbeb03b949252888202": {
      "model_module": "@jupyter-widgets/controls",
      "model_module_version": "1.5.0",
      "model_name": "HBoxModel",
      "state": {
       "_dom_classes": [],
       "_model_module": "@jupyter-widgets/controls",
       "_model_module_version": "1.5.0",
       "_model_name": "HBoxModel",
       "_view_count": null,
       "_view_module": "@jupyter-widgets/controls",
       "_view_module_version": "1.5.0",
       "_view_name": "HBoxView",
       "box_style": "",
       "children": [
        "IPY_MODEL_fe0db95624a0402398bec242bbab01eb",
        "IPY_MODEL_82f93992cefc4256a67b94737f740e7d",
        "IPY_MODEL_04ca6750face41ee9287fcb69b169151"
       ],
       "layout": "IPY_MODEL_d13b55e772b4413c9d82954e56a38531"
      }
     },
     "1f4bc01f3e6849c397ce323eaeccdf70": {
      "model_module": "@jupyter-widgets/controls",
      "model_module_version": "1.5.0",
      "model_name": "HTMLModel",
      "state": {
       "_dom_classes": [],
       "_model_module": "@jupyter-widgets/controls",
       "_model_module_version": "1.5.0",
       "_model_name": "HTMLModel",
       "_view_count": null,
       "_view_module": "@jupyter-widgets/controls",
       "_view_module_version": "1.5.0",
       "_view_name": "HTMLView",
       "description": "",
       "description_tooltip": null,
       "layout": "IPY_MODEL_7da13f8f4608471e90f8a3a17b062b49",
       "placeholder": "​",
       "style": "IPY_MODEL_56118c7e6ddb45548fd1b3aa0815c7c9",
       "value": "100%"
      }
     },
     "38babcd1364743d288be761b69541105": {
      "model_module": "@jupyter-widgets/controls",
      "model_module_version": "1.5.0",
      "model_name": "ProgressStyleModel",
      "state": {
       "_model_module": "@jupyter-widgets/controls",
       "_model_module_version": "1.5.0",
       "_model_name": "ProgressStyleModel",
       "_view_count": null,
       "_view_module": "@jupyter-widgets/base",
       "_view_module_version": "1.2.0",
       "_view_name": "StyleView",
       "bar_color": null,
       "description_width": ""
      }
     },
     "390990a419dc479eb19e4bcd51827203": {
      "model_module": "@jupyter-widgets/base",
      "model_module_version": "1.2.0",
      "model_name": "LayoutModel",
      "state": {
       "_model_module": "@jupyter-widgets/base",
       "_model_module_version": "1.2.0",
       "_model_name": "LayoutModel",
       "_view_count": null,
       "_view_module": "@jupyter-widgets/base",
       "_view_module_version": "1.2.0",
       "_view_name": "LayoutView",
       "align_content": null,
       "align_items": null,
       "align_self": null,
       "border": null,
       "bottom": null,
       "display": null,
       "flex": null,
       "flex_flow": null,
       "grid_area": null,
       "grid_auto_columns": null,
       "grid_auto_flow": null,
       "grid_auto_rows": null,
       "grid_column": null,
       "grid_gap": null,
       "grid_row": null,
       "grid_template_areas": null,
       "grid_template_columns": null,
       "grid_template_rows": null,
       "height": null,
       "justify_content": null,
       "justify_items": null,
       "left": null,
       "margin": null,
       "max_height": null,
       "max_width": null,
       "min_height": null,
       "min_width": null,
       "object_fit": null,
       "object_position": null,
       "order": null,
       "overflow": null,
       "overflow_x": null,
       "overflow_y": null,
       "padding": null,
       "right": null,
       "top": null,
       "visibility": null,
       "width": null
      }
     },
     "4482845175d64d96b9464c2bbf23c3a9": {
      "model_module": "@jupyter-widgets/controls",
      "model_module_version": "1.5.0",
      "model_name": "DescriptionStyleModel",
      "state": {
       "_model_module": "@jupyter-widgets/controls",
       "_model_module_version": "1.5.0",
       "_model_name": "DescriptionStyleModel",
       "_view_count": null,
       "_view_module": "@jupyter-widgets/base",
       "_view_module_version": "1.2.0",
       "_view_name": "StyleView",
       "description_width": ""
      }
     },
     "47fa66392ec84f6baac9b27746d59e9d": {
      "model_module": "@jupyter-widgets/controls",
      "model_module_version": "1.5.0",
      "model_name": "FloatProgressModel",
      "state": {
       "_dom_classes": [],
       "_model_module": "@jupyter-widgets/controls",
       "_model_module_version": "1.5.0",
       "_model_name": "FloatProgressModel",
       "_view_count": null,
       "_view_module": "@jupyter-widgets/controls",
       "_view_module_version": "1.5.0",
       "_view_name": "ProgressView",
       "bar_style": "success",
       "description": "",
       "description_tooltip": null,
       "layout": "IPY_MODEL_c233ea597eb0426197982fb225b57aac",
       "max": 40456.0,
       "min": 0.0,
       "orientation": "horizontal",
       "style": "IPY_MODEL_82df703b74da490888406e0da639dba6",
       "value": 40456.0
      }
     },
     "56118c7e6ddb45548fd1b3aa0815c7c9": {
      "model_module": "@jupyter-widgets/controls",
      "model_module_version": "1.5.0",
      "model_name": "DescriptionStyleModel",
      "state": {
       "_model_module": "@jupyter-widgets/controls",
       "_model_module_version": "1.5.0",
       "_model_name": "DescriptionStyleModel",
       "_view_count": null,
       "_view_module": "@jupyter-widgets/base",
       "_view_module_version": "1.2.0",
       "_view_name": "StyleView",
       "description_width": ""
      }
     },
     "616604c327b84e84a0d62c14c83f36bb": {
      "model_module": "@jupyter-widgets/base",
      "model_module_version": "1.2.0",
      "model_name": "LayoutModel",
      "state": {
       "_model_module": "@jupyter-widgets/base",
       "_model_module_version": "1.2.0",
       "_model_name": "LayoutModel",
       "_view_count": null,
       "_view_module": "@jupyter-widgets/base",
       "_view_module_version": "1.2.0",
       "_view_name": "LayoutView",
       "align_content": null,
       "align_items": null,
       "align_self": null,
       "border": null,
       "bottom": null,
       "display": null,
       "flex": null,
       "flex_flow": null,
       "grid_area": null,
       "grid_auto_columns": null,
       "grid_auto_flow": null,
       "grid_auto_rows": null,
       "grid_column": null,
       "grid_gap": null,
       "grid_row": null,
       "grid_template_areas": null,
       "grid_template_columns": null,
       "grid_template_rows": null,
       "height": null,
       "justify_content": null,
       "justify_items": null,
       "left": null,
       "margin": null,
       "max_height": null,
       "max_width": null,
       "min_height": null,
       "min_width": null,
       "object_fit": null,
       "object_position": null,
       "order": null,
       "overflow": null,
       "overflow_x": null,
       "overflow_y": null,
       "padding": null,
       "right": null,
       "top": null,
       "visibility": null,
       "width": null
      }
     },
     "74b7cc4d6c4e443a91de1e43f8ad712f": {
      "model_module": "@jupyter-widgets/controls",
      "model_module_version": "1.5.0",
      "model_name": "DescriptionStyleModel",
      "state": {
       "_model_module": "@jupyter-widgets/controls",
       "_model_module_version": "1.5.0",
       "_model_name": "DescriptionStyleModel",
       "_view_count": null,
       "_view_module": "@jupyter-widgets/base",
       "_view_module_version": "1.2.0",
       "_view_name": "StyleView",
       "description_width": ""
      }
     },
     "7da13f8f4608471e90f8a3a17b062b49": {
      "model_module": "@jupyter-widgets/base",
      "model_module_version": "1.2.0",
      "model_name": "LayoutModel",
      "state": {
       "_model_module": "@jupyter-widgets/base",
       "_model_module_version": "1.2.0",
       "_model_name": "LayoutModel",
       "_view_count": null,
       "_view_module": "@jupyter-widgets/base",
       "_view_module_version": "1.2.0",
       "_view_name": "LayoutView",
       "align_content": null,
       "align_items": null,
       "align_self": null,
       "border": null,
       "bottom": null,
       "display": null,
       "flex": null,
       "flex_flow": null,
       "grid_area": null,
       "grid_auto_columns": null,
       "grid_auto_flow": null,
       "grid_auto_rows": null,
       "grid_column": null,
       "grid_gap": null,
       "grid_row": null,
       "grid_template_areas": null,
       "grid_template_columns": null,
       "grid_template_rows": null,
       "height": null,
       "justify_content": null,
       "justify_items": null,
       "left": null,
       "margin": null,
       "max_height": null,
       "max_width": null,
       "min_height": null,
       "min_width": null,
       "object_fit": null,
       "object_position": null,
       "order": null,
       "overflow": null,
       "overflow_x": null,
       "overflow_y": null,
       "padding": null,
       "right": null,
       "top": null,
       "visibility": null,
       "width": null
      }
     },
     "82df703b74da490888406e0da639dba6": {
      "model_module": "@jupyter-widgets/controls",
      "model_module_version": "1.5.0",
      "model_name": "ProgressStyleModel",
      "state": {
       "_model_module": "@jupyter-widgets/controls",
       "_model_module_version": "1.5.0",
       "_model_name": "ProgressStyleModel",
       "_view_count": null,
       "_view_module": "@jupyter-widgets/base",
       "_view_module_version": "1.2.0",
       "_view_name": "StyleView",
       "bar_color": null,
       "description_width": ""
      }
     },
     "82f93992cefc4256a67b94737f740e7d": {
      "model_module": "@jupyter-widgets/controls",
      "model_module_version": "1.5.0",
      "model_name": "FloatProgressModel",
      "state": {
       "_dom_classes": [],
       "_model_module": "@jupyter-widgets/controls",
       "_model_module_version": "1.5.0",
       "_model_name": "FloatProgressModel",
       "_view_count": null,
       "_view_module": "@jupyter-widgets/controls",
       "_view_module_version": "1.5.0",
       "_view_name": "ProgressView",
       "bar_style": "success",
       "description": "",
       "description_tooltip": null,
       "layout": "IPY_MODEL_03567703dbeb445984a65f19767ed158",
       "max": 8091.0,
       "min": 0.0,
       "orientation": "horizontal",
       "style": "IPY_MODEL_38babcd1364743d288be761b69541105",
       "value": 8091.0
      }
     },
     "846c26abf22b42c4ab84f2015a3dca18": {
      "model_module": "@jupyter-widgets/controls",
      "model_module_version": "1.5.0",
      "model_name": "HBoxModel",
      "state": {
       "_dom_classes": [],
       "_model_module": "@jupyter-widgets/controls",
       "_model_module_version": "1.5.0",
       "_model_name": "HBoxModel",
       "_view_count": null,
       "_view_module": "@jupyter-widgets/controls",
       "_view_module_version": "1.5.0",
       "_view_name": "HBoxView",
       "box_style": "",
       "children": [
        "IPY_MODEL_1f4bc01f3e6849c397ce323eaeccdf70",
        "IPY_MODEL_47fa66392ec84f6baac9b27746d59e9d",
        "IPY_MODEL_9f0479e732b54dfc901e750770eb5bc0"
       ],
       "layout": "IPY_MODEL_616604c327b84e84a0d62c14c83f36bb"
      }
     },
     "9e015b61007e44ce913507c11dbc7b3e": {
      "model_module": "@jupyter-widgets/base",
      "model_module_version": "1.2.0",
      "model_name": "LayoutModel",
      "state": {
       "_model_module": "@jupyter-widgets/base",
       "_model_module_version": "1.2.0",
       "_model_name": "LayoutModel",
       "_view_count": null,
       "_view_module": "@jupyter-widgets/base",
       "_view_module_version": "1.2.0",
       "_view_name": "LayoutView",
       "align_content": null,
       "align_items": null,
       "align_self": null,
       "border": null,
       "bottom": null,
       "display": null,
       "flex": null,
       "flex_flow": null,
       "grid_area": null,
       "grid_auto_columns": null,
       "grid_auto_flow": null,
       "grid_auto_rows": null,
       "grid_column": null,
       "grid_gap": null,
       "grid_row": null,
       "grid_template_areas": null,
       "grid_template_columns": null,
       "grid_template_rows": null,
       "height": null,
       "justify_content": null,
       "justify_items": null,
       "left": null,
       "margin": null,
       "max_height": null,
       "max_width": null,
       "min_height": null,
       "min_width": null,
       "object_fit": null,
       "object_position": null,
       "order": null,
       "overflow": null,
       "overflow_x": null,
       "overflow_y": null,
       "padding": null,
       "right": null,
       "top": null,
       "visibility": null,
       "width": null
      }
     },
     "9f0479e732b54dfc901e750770eb5bc0": {
      "model_module": "@jupyter-widgets/controls",
      "model_module_version": "1.5.0",
      "model_name": "HTMLModel",
      "state": {
       "_dom_classes": [],
       "_model_module": "@jupyter-widgets/controls",
       "_model_module_version": "1.5.0",
       "_model_name": "HTMLModel",
       "_view_count": null,
       "_view_module": "@jupyter-widgets/controls",
       "_view_module_version": "1.5.0",
       "_view_name": "HTMLView",
       "description": "",
       "description_tooltip": null,
       "layout": "IPY_MODEL_cc12ca99c96545c59f2a7af653b4f4b6",
       "placeholder": "​",
       "style": "IPY_MODEL_74b7cc4d6c4e443a91de1e43f8ad712f",
       "value": " 40456/40456 [00:00&lt;00:00, 54322.20it/s]"
      }
     },
     "c233ea597eb0426197982fb225b57aac": {
      "model_module": "@jupyter-widgets/base",
      "model_module_version": "1.2.0",
      "model_name": "LayoutModel",
      "state": {
       "_model_module": "@jupyter-widgets/base",
       "_model_module_version": "1.2.0",
       "_model_name": "LayoutModel",
       "_view_count": null,
       "_view_module": "@jupyter-widgets/base",
       "_view_module_version": "1.2.0",
       "_view_name": "LayoutView",
       "align_content": null,
       "align_items": null,
       "align_self": null,
       "border": null,
       "bottom": null,
       "display": null,
       "flex": null,
       "flex_flow": null,
       "grid_area": null,
       "grid_auto_columns": null,
       "grid_auto_flow": null,
       "grid_auto_rows": null,
       "grid_column": null,
       "grid_gap": null,
       "grid_row": null,
       "grid_template_areas": null,
       "grid_template_columns": null,
       "grid_template_rows": null,
       "height": null,
       "justify_content": null,
       "justify_items": null,
       "left": null,
       "margin": null,
       "max_height": null,
       "max_width": null,
       "min_height": null,
       "min_width": null,
       "object_fit": null,
       "object_position": null,
       "order": null,
       "overflow": null,
       "overflow_x": null,
       "overflow_y": null,
       "padding": null,
       "right": null,
       "top": null,
       "visibility": null,
       "width": null
      }
     },
     "cc12ca99c96545c59f2a7af653b4f4b6": {
      "model_module": "@jupyter-widgets/base",
      "model_module_version": "1.2.0",
      "model_name": "LayoutModel",
      "state": {
       "_model_module": "@jupyter-widgets/base",
       "_model_module_version": "1.2.0",
       "_model_name": "LayoutModel",
       "_view_count": null,
       "_view_module": "@jupyter-widgets/base",
       "_view_module_version": "1.2.0",
       "_view_name": "LayoutView",
       "align_content": null,
       "align_items": null,
       "align_self": null,
       "border": null,
       "bottom": null,
       "display": null,
       "flex": null,
       "flex_flow": null,
       "grid_area": null,
       "grid_auto_columns": null,
       "grid_auto_flow": null,
       "grid_auto_rows": null,
       "grid_column": null,
       "grid_gap": null,
       "grid_row": null,
       "grid_template_areas": null,
       "grid_template_columns": null,
       "grid_template_rows": null,
       "height": null,
       "justify_content": null,
       "justify_items": null,
       "left": null,
       "margin": null,
       "max_height": null,
       "max_width": null,
       "min_height": null,
       "min_width": null,
       "object_fit": null,
       "object_position": null,
       "order": null,
       "overflow": null,
       "overflow_x": null,
       "overflow_y": null,
       "padding": null,
       "right": null,
       "top": null,
       "visibility": null,
       "width": null
      }
     },
     "d13b55e772b4413c9d82954e56a38531": {
      "model_module": "@jupyter-widgets/base",
      "model_module_version": "1.2.0",
      "model_name": "LayoutModel",
      "state": {
       "_model_module": "@jupyter-widgets/base",
       "_model_module_version": "1.2.0",
       "_model_name": "LayoutModel",
       "_view_count": null,
       "_view_module": "@jupyter-widgets/base",
       "_view_module_version": "1.2.0",
       "_view_name": "LayoutView",
       "align_content": null,
       "align_items": null,
       "align_self": null,
       "border": null,
       "bottom": null,
       "display": null,
       "flex": null,
       "flex_flow": null,
       "grid_area": null,
       "grid_auto_columns": null,
       "grid_auto_flow": null,
       "grid_auto_rows": null,
       "grid_column": null,
       "grid_gap": null,
       "grid_row": null,
       "grid_template_areas": null,
       "grid_template_columns": null,
       "grid_template_rows": null,
       "height": null,
       "justify_content": null,
       "justify_items": null,
       "left": null,
       "margin": null,
       "max_height": null,
       "max_width": null,
       "min_height": null,
       "min_width": null,
       "object_fit": null,
       "object_position": null,
       "order": null,
       "overflow": null,
       "overflow_x": null,
       "overflow_y": null,
       "padding": null,
       "right": null,
       "top": null,
       "visibility": null,
       "width": null
      }
     },
     "fe0db95624a0402398bec242bbab01eb": {
      "model_module": "@jupyter-widgets/controls",
      "model_module_version": "1.5.0",
      "model_name": "HTMLModel",
      "state": {
       "_dom_classes": [],
       "_model_module": "@jupyter-widgets/controls",
       "_model_module_version": "1.5.0",
       "_model_name": "HTMLModel",
       "_view_count": null,
       "_view_module": "@jupyter-widgets/controls",
       "_view_module_version": "1.5.0",
       "_view_name": "HTMLView",
       "description": "",
       "description_tooltip": null,
       "layout": "IPY_MODEL_9e015b61007e44ce913507c11dbc7b3e",
       "placeholder": "​",
       "style": "IPY_MODEL_0e0b501429ac440fb97af71dc43516b6",
       "value": "100%"
      }
     }
    },
    "version_major": 2,
    "version_minor": 0
   }
  }
 },
 "nbformat": 4,
 "nbformat_minor": 5
}
